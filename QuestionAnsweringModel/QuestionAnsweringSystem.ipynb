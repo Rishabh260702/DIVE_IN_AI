{
 "cells": [
  {
   "cell_type": "code",
   "execution_count": 1,
   "id": "6f069b17",
   "metadata": {
    "execution": {
     "iopub.execute_input": "2021-09-06T19:53:44.826023Z",
     "iopub.status.busy": "2021-09-06T19:53:44.825471Z",
     "iopub.status.idle": "2021-09-06T19:58:22.128751Z",
     "shell.execute_reply": "2021-09-06T19:58:22.127751Z",
     "shell.execute_reply.started": "2021-09-06T18:43:54.777664Z"
    },
    "executionInfo": {
     "elapsed": 8926,
     "status": "ok",
     "timestamp": 1630320154084,
     "user": {
      "displayName": "Rishabh Pandey",
      "photoUrl": "",
      "userId": "07861759771544908266"
     },
     "user_tz": -330
    },
    "id": "33lOBhJZNbnU",
    "outputId": "3211a5a9-d127-422f-f54a-61f27510d62e",
    "papermill": {
     "duration": 277.35014,
     "end_time": "2021-09-06T19:58:22.128924",
     "exception": false,
     "start_time": "2021-09-06T19:53:44.778784",
     "status": "completed"
    },
    "tags": []
   },
   "outputs": [
    {
     "name": "stdout",
     "output_type": "stream",
     "text": [
      "Requirement already satisfied: transformers[sentencepiece] in /opt/conda/lib/python3.7/site-packages (4.6.1)\r\n",
      "Requirement already satisfied: importlib-metadata in /opt/conda/lib/python3.7/site-packages (from transformers[sentencepiece]) (3.4.0)\r\n",
      "Requirement already satisfied: tqdm>=4.27 in /opt/conda/lib/python3.7/site-packages (from transformers[sentencepiece]) (4.61.1)\r\n",
      "Requirement already satisfied: regex!=2019.12.17 in /opt/conda/lib/python3.7/site-packages (from transformers[sentencepiece]) (2021.4.4)\r\n",
      "Requirement already satisfied: tokenizers<0.11,>=0.10.1 in /opt/conda/lib/python3.7/site-packages (from transformers[sentencepiece]) (0.10.3)\r\n",
      "Requirement already satisfied: numpy>=1.17 in /opt/conda/lib/python3.7/site-packages (from transformers[sentencepiece]) (1.19.5)\r\n",
      "Requirement already satisfied: packaging in /opt/conda/lib/python3.7/site-packages (from transformers[sentencepiece]) (20.9)\r\n",
      "Requirement already satisfied: requests in /opt/conda/lib/python3.7/site-packages (from transformers[sentencepiece]) (2.25.1)\r\n",
      "Requirement already satisfied: huggingface-hub==0.0.8 in /opt/conda/lib/python3.7/site-packages (from transformers[sentencepiece]) (0.0.8)\r\n",
      "Requirement already satisfied: sacremoses in /opt/conda/lib/python3.7/site-packages (from transformers[sentencepiece]) (0.0.45)\r\n",
      "Requirement already satisfied: filelock in /opt/conda/lib/python3.7/site-packages (from transformers[sentencepiece]) (3.0.12)\r\n",
      "\u001b[33mWARNING: Retrying (Retry(total=4, connect=None, read=None, redirect=None, status=None)) after connection broken by 'NewConnectionError('<pip._vendor.urllib3.connection.HTTPSConnection object at 0x7f87f8566f90>: Failed to establish a new connection: [Errno -3] Temporary failure in name resolution')': /simple/sentencepiece/\u001b[0m\r\n",
      "\u001b[33mWARNING: Retrying (Retry(total=3, connect=None, read=None, redirect=None, status=None)) after connection broken by 'NewConnectionError('<pip._vendor.urllib3.connection.HTTPSConnection object at 0x7f87f856dd90>: Failed to establish a new connection: [Errno -3] Temporary failure in name resolution')': /simple/sentencepiece/\u001b[0m\r\n",
      "\u001b[33mWARNING: Retrying (Retry(total=2, connect=None, read=None, redirect=None, status=None)) after connection broken by 'NewConnectionError('<pip._vendor.urllib3.connection.HTTPSConnection object at 0x7f87f856d350>: Failed to establish a new connection: [Errno -3] Temporary failure in name resolution')': /simple/sentencepiece/\u001b[0m\r\n",
      "\u001b[33mWARNING: Retrying (Retry(total=1, connect=None, read=None, redirect=None, status=None)) after connection broken by 'NewConnectionError('<pip._vendor.urllib3.connection.HTTPSConnection object at 0x7f87f856d610>: Failed to establish a new connection: [Errno -3] Temporary failure in name resolution')': /simple/sentencepiece/\u001b[0m\r\n",
      "\u001b[33mWARNING: Retrying (Retry(total=0, connect=None, read=None, redirect=None, status=None)) after connection broken by 'NewConnectionError('<pip._vendor.urllib3.connection.HTTPSConnection object at 0x7f87f8571390>: Failed to establish a new connection: [Errno -3] Temporary failure in name resolution')': /simple/sentencepiece/\u001b[0m\r\n",
      "\u001b[33mWARNING: Retrying (Retry(total=4, connect=None, read=None, redirect=None, status=None)) after connection broken by 'NewConnectionError('<pip._vendor.urllib3.connection.HTTPSConnection object at 0x7f87f7ed7ed0>: Failed to establish a new connection: [Errno -3] Temporary failure in name resolution')': /simple/transformers/\u001b[0m\r\n",
      "\u001b[33mWARNING: Retrying (Retry(total=3, connect=None, read=None, redirect=None, status=None)) after connection broken by 'NewConnectionError('<pip._vendor.urllib3.connection.HTTPSConnection object at 0x7f87f857f410>: Failed to establish a new connection: [Errno -3] Temporary failure in name resolution')': /simple/transformers/\u001b[0m\r\n",
      "\u001b[33mWARNING: Retrying (Retry(total=2, connect=None, read=None, redirect=None, status=None)) after connection broken by 'NewConnectionError('<pip._vendor.urllib3.connection.HTTPSConnection object at 0x7f87f857f750>: Failed to establish a new connection: [Errno -3] Temporary failure in name resolution')': /simple/transformers/\u001b[0m\r\n",
      "\u001b[33mWARNING: Retrying (Retry(total=1, connect=None, read=None, redirect=None, status=None)) after connection broken by 'NewConnectionError('<pip._vendor.urllib3.connection.HTTPSConnection object at 0x7f87f857fa90>: Failed to establish a new connection: [Errno -3] Temporary failure in name resolution')': /simple/transformers/\u001b[0m\r\n",
      "\u001b[33mWARNING: Retrying (Retry(total=0, connect=None, read=None, redirect=None, status=None)) after connection broken by 'NewConnectionError('<pip._vendor.urllib3.connection.HTTPSConnection object at 0x7f87f857fdd0>: Failed to establish a new connection: [Errno -3] Temporary failure in name resolution')': /simple/transformers/\u001b[0m\r\n",
      "\u001b[31mERROR: Could not find a version that satisfies the requirement sentencepiece==0.1.91; extra == \"sentencepiece\" (from transformers[sentencepiece]) (from versions: none)\u001b[0m\r\n",
      "\u001b[31mERROR: No matching distribution found for sentencepiece==0.1.91; extra == \"sentencepiece\"\u001b[0m\r\n"
     ]
    }
   ],
   "source": [
    "!pip install transformers[sentencepiece]"
   ]
  },
  {
   "cell_type": "code",
   "execution_count": 2,
   "id": "e1bfd5e7",
   "metadata": {
    "execution": {
     "iopub.execute_input": "2021-09-06T19:58:22.217040Z",
     "iopub.status.busy": "2021-09-06T19:58:22.216104Z",
     "iopub.status.idle": "2021-09-06T19:58:31.049041Z",
     "shell.execute_reply": "2021-09-06T19:58:31.048512Z",
     "shell.execute_reply.started": "2021-09-06T18:44:10.416750Z"
    },
    "papermill": {
     "duration": 8.880282,
     "end_time": "2021-09-06T19:58:31.049166",
     "exception": false,
     "start_time": "2021-09-06T19:58:22.168884",
     "status": "completed"
    },
    "tags": []
   },
   "outputs": [
    {
     "name": "stdout",
     "output_type": "stream",
     "text": [
      "\u001b[31mERROR: pip's dependency resolver does not currently take into account all the packages that are installed. This behaviour is the source of the following dependency conflicts.\r\n",
      "tensorflow-cloud 0.1.13 requires tensorflow<3.0,>=1.15.0, which is not installed.\r\n",
      "dask-cudf 21.6.1+2.g101fc0fda4 requires cupy-cuda112, which is not installed.\r\n",
      "cudf 21.6.1+2.g101fc0fda4 requires cupy-cuda110, which is not installed.\r\n",
      "s3fs 2021.6.1 requires fsspec==2021.06.1, but you have fsspec 2021.6.0 which is incompatible.\r\n",
      "pytorch-lightning 1.3.8 requires fsspec[http]!=2021.06.0,>=2021.05.0, but you have fsspec 2021.6.0 which is incompatible.\r\n",
      "dask-cudf 21.6.1+2.g101fc0fda4 requires dask<=2021.5.1,>=2021.4.0, but you have dask 2021.6.2 which is incompatible.\r\n",
      "dask-cudf 21.6.1+2.g101fc0fda4 requires distributed<=2021.5.1,>=2.22.0, but you have distributed 2021.6.2 which is incompatible.\u001b[0m\r\n"
     ]
    }
   ],
   "source": [
    "!pip uninstall fsspec -qq -y\n",
    "!pip install --no-index --find-links ../input/hf-datasets/wheels datasets -qq"
   ]
  },
  {
   "cell_type": "code",
   "execution_count": 3,
   "id": "63bc50c3",
   "metadata": {
    "execution": {
     "iopub.execute_input": "2021-09-06T19:58:31.132164Z",
     "iopub.status.busy": "2021-09-06T19:58:31.131038Z",
     "iopub.status.idle": "2021-09-06T19:58:31.662669Z",
     "shell.execute_reply": "2021-09-06T19:58:31.662131Z",
     "shell.execute_reply.started": "2021-09-06T18:44:21.875971Z"
    },
    "papermill": {
     "duration": 0.573881,
     "end_time": "2021-09-06T19:58:31.662808",
     "exception": false,
     "start_time": "2021-09-06T19:58:31.088927",
     "status": "completed"
    },
    "tags": []
   },
   "outputs": [],
   "source": [
    "from datasets import Dataset"
   ]
  },
  {
   "cell_type": "code",
   "execution_count": 4,
   "id": "f4faf63a",
   "metadata": {
    "execution": {
     "iopub.execute_input": "2021-09-06T19:58:31.744063Z",
     "iopub.status.busy": "2021-09-06T19:58:31.743282Z",
     "iopub.status.idle": "2021-09-06T19:58:31.745928Z",
     "shell.execute_reply": "2021-09-06T19:58:31.745525Z",
     "shell.execute_reply.started": "2021-09-06T18:44:25.860782Z"
    },
    "executionInfo": {
     "elapsed": 504,
     "status": "ok",
     "timestamp": 1630320210495,
     "user": {
      "displayName": "Rishabh Pandey",
      "photoUrl": "",
      "userId": "07861759771544908266"
     },
     "user_tz": -330
    },
    "id": "8VLAhTJvvx-e",
    "papermill": {
     "duration": 0.04445,
     "end_time": "2021-09-06T19:58:31.746032",
     "exception": false,
     "start_time": "2021-09-06T19:58:31.701582",
     "status": "completed"
    },
    "tags": []
   },
   "outputs": [],
   "source": [
    "import numpy as np\n",
    "import pandas as pd\n",
    "\n",
    "from random import sample\n",
    "import os,gc,re\n",
    "import warnings\n",
    "import sys\n",
    "if not sys.warnoptions:\n",
    "    warnings.simplefilter(\"ignore\")"
   ]
  },
  {
   "cell_type": "code",
   "execution_count": 5,
   "id": "a2b4c564",
   "metadata": {
    "execution": {
     "iopub.execute_input": "2021-09-06T19:58:31.826050Z",
     "iopub.status.busy": "2021-09-06T19:58:31.825387Z",
     "iopub.status.idle": "2021-09-06T19:58:32.906927Z",
     "shell.execute_reply": "2021-09-06T19:58:32.907420Z",
     "shell.execute_reply.started": "2021-09-06T18:44:41.504289Z"
    },
    "executionInfo": {
     "elapsed": 4424,
     "status": "ok",
     "timestamp": 1630320295986,
     "user": {
      "displayName": "Rishabh Pandey",
      "photoUrl": "",
      "userId": "07861759771544908266"
     },
     "user_tz": -330
    },
    "id": "cD8BT8voIwcx",
    "papermill": {
     "duration": 1.12346,
     "end_time": "2021-09-06T19:58:32.907600",
     "exception": false,
     "start_time": "2021-09-06T19:58:31.784140",
     "status": "completed"
    },
    "tags": []
   },
   "outputs": [],
   "source": [
    "import torch\n",
    "import datasets"
   ]
  },
  {
   "cell_type": "code",
   "execution_count": 6,
   "id": "bbc4be24",
   "metadata": {
    "execution": {
     "iopub.execute_input": "2021-09-06T19:58:32.991494Z",
     "iopub.status.busy": "2021-09-06T19:58:32.990787Z",
     "iopub.status.idle": "2021-09-06T19:58:33.756260Z",
     "shell.execute_reply": "2021-09-06T19:58:33.755534Z",
     "shell.execute_reply.started": "2021-09-06T18:44:49.721186Z"
    },
    "executionInfo": {
     "elapsed": 1188,
     "status": "ok",
     "timestamp": 1630320286953,
     "user": {
      "displayName": "Rishabh Pandey",
      "photoUrl": "",
      "userId": "07861759771544908266"
     },
     "user_tz": -330
    },
    "id": "bJc_ysw_v2rw",
    "outputId": "08dd1518-efdd-4057-c75e-717bde0c3ea6",
    "papermill": {
     "duration": 0.809371,
     "end_time": "2021-09-06T19:58:33.756431",
     "exception": false,
     "start_time": "2021-09-06T19:58:32.947060",
     "status": "completed"
    },
    "tags": []
   },
   "outputs": [
    {
     "name": "stdout",
     "output_type": "stream",
     "text": [
      "<class 'pandas.core.frame.DataFrame'>\n",
      "RangeIndex: 1114 entries, 0 to 1113\n",
      "Data columns (total 6 columns):\n",
      " #   Column        Non-Null Count  Dtype \n",
      "---  ------        --------------  ----- \n",
      " 0   id            1114 non-null   object\n",
      " 1   context       1114 non-null   object\n",
      " 2   question      1114 non-null   object\n",
      " 3   answer_text   1114 non-null   object\n",
      " 4   answer_start  1114 non-null   int64 \n",
      " 5   language      1114 non-null   object\n",
      "dtypes: int64(1), object(5)\n",
      "memory usage: 52.3+ KB\n"
     ]
    }
   ],
   "source": [
    "def data_loader():\n",
    "    train   = pd.read_csv('../input/chaii-hindi-and-tamil-question-answering/train.csv')\n",
    "    test   = pd.read_csv('../input/chaii-hindi-and-tamil-question-answering/test.csv')\n",
    "    return train,test\n",
    "\n",
    "train,test = data_loader()\n",
    "\n",
    "train.info()"
   ]
  },
  {
   "cell_type": "code",
   "execution_count": 7,
   "id": "b1e11ae0",
   "metadata": {
    "execution": {
     "iopub.execute_input": "2021-09-06T19:58:33.848183Z",
     "iopub.status.busy": "2021-09-06T19:58:33.847658Z",
     "iopub.status.idle": "2021-09-06T19:58:33.850880Z",
     "shell.execute_reply": "2021-09-06T19:58:33.851289Z",
     "shell.execute_reply.started": "2021-09-06T18:45:23.030146Z"
    },
    "executionInfo": {
     "elapsed": 465,
     "status": "ok",
     "timestamp": 1630320301206,
     "user": {
      "displayName": "Rishabh Pandey",
      "photoUrl": "",
      "userId": "07861759771544908266"
     },
     "user_tz": -330
    },
    "id": "qoDsolYefVwA",
    "papermill": {
     "duration": 0.048921,
     "end_time": "2021-09-06T19:58:33.851452",
     "exception": false,
     "start_time": "2021-09-06T19:58:33.802531",
     "status": "completed"
    },
    "tags": []
   },
   "outputs": [],
   "source": [
    "def get_answers(x):\n",
    "    start = x[0]\n",
    "    text = x[1]\n",
    "    return {\n",
    "        'answer_start': [start],\n",
    "        'text': [text]\n",
    "    }"
   ]
  },
  {
   "cell_type": "code",
   "execution_count": 8,
   "id": "64b23ec6",
   "metadata": {
    "collapsed": true,
    "execution": {
     "iopub.execute_input": "2021-09-06T19:58:33.939704Z",
     "iopub.status.busy": "2021-09-06T19:58:33.936756Z",
     "iopub.status.idle": "2021-09-06T19:58:34.063702Z",
     "shell.execute_reply": "2021-09-06T19:58:34.064118Z",
     "shell.execute_reply.started": "2021-09-06T18:45:30.829246Z"
    },
    "executionInfo": {
     "elapsed": 425,
     "status": "ok",
     "timestamp": 1630320303967,
     "user": {
      "displayName": "Rishabh Pandey",
      "photoUrl": "",
      "userId": "07861759771544908266"
     },
     "user_tz": -330
    },
    "id": "MIn6We4ykr1Y",
    "jupyter": {
     "outputs_hidden": true
    },
    "outputId": "6a219ea6-f48d-4bf4-ac93-5e12bba55236",
    "papermill": {
     "duration": 0.172558,
     "end_time": "2021-09-06T19:58:34.064283",
     "exception": false,
     "start_time": "2021-09-06T19:58:33.891725",
     "status": "completed"
    },
    "tags": []
   },
   "outputs": [
    {
     "data": {
      "text/html": [
       "<div>\n",
       "<style scoped>\n",
       "    .dataframe tbody tr th:only-of-type {\n",
       "        vertical-align: middle;\n",
       "    }\n",
       "\n",
       "    .dataframe tbody tr th {\n",
       "        vertical-align: top;\n",
       "    }\n",
       "\n",
       "    .dataframe thead th {\n",
       "        text-align: right;\n",
       "    }\n",
       "</style>\n",
       "<table border=\"1\" class=\"dataframe\">\n",
       "  <thead>\n",
       "    <tr style=\"text-align: right;\">\n",
       "      <th></th>\n",
       "      <th>id</th>\n",
       "      <th>context</th>\n",
       "      <th>question</th>\n",
       "      <th>answer_text</th>\n",
       "      <th>answer_start</th>\n",
       "      <th>language</th>\n",
       "      <th>answers</th>\n",
       "    </tr>\n",
       "  </thead>\n",
       "  <tbody>\n",
       "    <tr>\n",
       "      <th>860</th>\n",
       "      <td>632812604</td>\n",
       "      <td>संयुक्त राष्ट्र संगठन का मुख्यालय [[[अमेरिका]] के न्युयॉर्क शहर में स्थित है। इसका भवन आधिकारिक रूप से 9 जनवरी 1951 को खुला। इस भवन का निर्माण 1949-1950 में हुआ। इसके लिए विलियम जेकेंडॉफ से नदी के पूर्वी किनारे पर 17 एकड़ जमीन खरीदी गई। इस सौदे में नेल्सन रॉकफेलर की अहम भूमिका थी।\\n सहायक एवं संदर्भ श्रोत \\nश्रेणी:आधार\\nश्रेणी:संयुक्त राष्ट्र</td>\n",
       "      <td>संयुक्त राष्ट्र का मुख्यालय कहाँ पर है?</td>\n",
       "      <td>न्युयॉर्क</td>\n",
       "      <td>50</td>\n",
       "      <td>hindi</td>\n",
       "      <td>{'answer_start': [50], 'text': ['न्युयॉर्क']}</td>\n",
       "    </tr>\n",
       "  </tbody>\n",
       "</table>\n",
       "</div>"
      ],
      "text/plain": [
       "            id  \\\n",
       "860  632812604   \n",
       "\n",
       "                                                                                                                                                                                                                                                                                                                                                      context  \\\n",
       "860  संयुक्त राष्ट्र संगठन का मुख्यालय [[[अमेरिका]] के न्युयॉर्क शहर में स्थित है। इसका भवन आधिकारिक रूप से 9 जनवरी 1951 को खुला। इस भवन का निर्माण 1949-1950 में हुआ। इसके लिए विलियम जेकेंडॉफ से नदी के पूर्वी किनारे पर 17 एकड़ जमीन खरीदी गई। इस सौदे में नेल्सन रॉकफेलर की अहम भूमिका थी।\\n सहायक एवं संदर्भ श्रोत \\nश्रेणी:आधार\\nश्रेणी:संयुक्त राष्ट्र   \n",
       "\n",
       "                                    question answer_text  answer_start  \\\n",
       "860  संयुक्त राष्ट्र का मुख्यालय कहाँ पर है?   न्युयॉर्क            50   \n",
       "\n",
       "    language                                        answers  \n",
       "860    hindi  {'answer_start': [50], 'text': ['न्युयॉर्क']}  "
      ]
     },
     "execution_count": 8,
     "metadata": {},
     "output_type": "execute_result"
    }
   ],
   "source": [
    "train = train.sample(frac=1, random_state=42) # shuffling the data\n",
    "train['answers'] = train[['answer_start', 'answer_text']].apply(get_answers, axis=1)\n",
    "\n",
    "pd.set_option('display.max_colwidth',None)\n",
    "train.tail(1)"
   ]
  },
  {
   "cell_type": "code",
   "execution_count": 9,
   "id": "fa9d676b",
   "metadata": {
    "execution": {
     "iopub.execute_input": "2021-09-06T19:58:34.148724Z",
     "iopub.status.busy": "2021-09-06T19:58:34.147963Z",
     "iopub.status.idle": "2021-09-06T19:58:34.479368Z",
     "shell.execute_reply": "2021-09-06T19:58:34.478927Z",
     "shell.execute_reply.started": "2021-09-06T18:47:07.565211Z"
    },
    "executionInfo": {
     "elapsed": 724,
     "status": "ok",
     "timestamp": 1630320308486,
     "user": {
      "displayName": "Rishabh Pandey",
      "photoUrl": "",
      "userId": "07861759771544908266"
     },
     "user_tz": -330
    },
    "id": "EVdYMFYRJBT8",
    "outputId": "83a1294f-ac7e-4d5a-b16d-656c4b9b7289",
    "papermill": {
     "duration": 0.375593,
     "end_time": "2021-09-06T19:58:34.479491",
     "exception": false,
     "start_time": "2021-09-06T19:58:34.103898",
     "status": "completed"
    },
    "tags": []
   },
   "outputs": [
    {
     "data": {
      "text/plain": [
       "((1050, 7), (64, 7))"
      ]
     },
     "execution_count": 9,
     "metadata": {},
     "output_type": "execute_result"
    }
   ],
   "source": [
    "df_train = train[:-64].reset_index(drop=True)\n",
    "df_valid = train[-64:].reset_index(drop=True)\n",
    "\n",
    "train_dataset = Dataset.from_pandas(df_train)\n",
    "valid_dataset = Dataset.from_pandas(df_valid)\n",
    "df_train.shape,df_valid.shape"
   ]
  },
  {
   "cell_type": "code",
   "execution_count": 10,
   "id": "fffe02c5",
   "metadata": {
    "execution": {
     "iopub.execute_input": "2021-09-06T19:58:34.563851Z",
     "iopub.status.busy": "2021-09-06T19:58:34.563256Z",
     "iopub.status.idle": "2021-09-06T19:58:34.566339Z",
     "shell.execute_reply": "2021-09-06T19:58:34.566773Z",
     "shell.execute_reply.started": "2021-09-06T18:48:04.370254Z"
    },
    "executionInfo": {
     "elapsed": 1019,
     "status": "ok",
     "timestamp": 1630320314808,
     "user": {
      "displayName": "Rishabh Pandey",
      "photoUrl": "",
      "userId": "07861759771544908266"
     },
     "user_tz": -330
    },
    "id": "WBmKvIn1MSUi",
    "outputId": "6e4a5075-5f3f-4cb4-91c5-b7ec2af196bd",
    "papermill": {
     "duration": 0.047457,
     "end_time": "2021-09-06T19:58:34.566894",
     "exception": false,
     "start_time": "2021-09-06T19:58:34.519437",
     "status": "completed"
    },
    "tags": []
   },
   "outputs": [
    {
     "data": {
      "text/plain": [
       "Dataset({\n",
       "    features: ['id', 'context', 'question', 'answer_text', 'answer_start', 'language', 'answers'],\n",
       "    num_rows: 1050\n",
       "})"
      ]
     },
     "execution_count": 10,
     "metadata": {},
     "output_type": "execute_result"
    }
   ],
   "source": [
    "train_dataset"
   ]
  },
  {
   "cell_type": "code",
   "execution_count": 11,
   "id": "1c13f43c",
   "metadata": {
    "collapsed": true,
    "execution": {
     "iopub.execute_input": "2021-09-06T19:58:34.653276Z",
     "iopub.status.busy": "2021-09-06T19:58:34.652367Z",
     "iopub.status.idle": "2021-09-06T19:58:34.656357Z",
     "shell.execute_reply": "2021-09-06T19:58:34.656727Z",
     "shell.execute_reply.started": "2021-09-06T18:48:55.640872Z"
    },
    "executionInfo": {
     "elapsed": 540,
     "status": "ok",
     "timestamp": 1630319177933,
     "user": {
      "displayName": "Rishabh Pandey",
      "photoUrl": "",
      "userId": "07861759771544908266"
     },
     "user_tz": -330
    },
    "id": "QcsutCUyh6Hx",
    "jupyter": {
     "outputs_hidden": true
    },
    "outputId": "ab06862f-02e7-40bf-91ee-4d98a9ee4096",
    "papermill": {
     "duration": 0.050192,
     "end_time": "2021-09-06T19:58:34.656848",
     "exception": false,
     "start_time": "2021-09-06T19:58:34.606656",
     "status": "completed"
    },
    "tags": []
   },
   "outputs": [
    {
     "data": {
      "text/plain": [
       "{'id': 'cd1339bdd',\n",
       " 'context': 'एरीजोना (English: Arizona) संयुक्त राज्य अमेरिका के दक्षिणपश्चिमी हिस्से में स्थित राज्य है। इसका सबसे बड़ा शहर और राजधानी फ़िनक्स है। दूसरा सबसे बड़ा राज्य टक्सन है और उसके बाद फ़िनक्स के महानगर क्षेत्र स्थित शहर मेसा, ग्लेनडेल, चंदलर और स्कोत्ट्सडेल है।\\nएरीजोना संयुक्त राज्यों में शामिल होने वाला ४८व राज्य था जिसे की इसमें १४ फरबरी १९१२ को समिलित किया गया। इसी दिन इस राज्य की देश में माने जाने वाली भूमि की वर्षागाठ भी थी। एरीजोना अपने रेगिस्तानी मौसम, भयंकर गर्मी और हल्की ठंड के लिए जाना जाता है। पर राज्य के उच्च इलाकों में बहुत पहाड़ व जंगल है, इसी कारण वहाँ का मौसम अन्य राज्य के मुकाबले ठंडा रहता है। जुलाई १ २००६ के अनुसार एरीजोना देश में आबादी के हिसाब से सबसे तेजी से बढ़ता राज्य है। इससे पहले यह दर्जा नेवादा के पास था।\\nराज्य का एक-चौथाई इलाका मूल अमेरिकी आदिवासी के लिये संरक्षित है। राज्य की आधिकरिक भाषा अँग्रेजी है जिसे बोलने वाले जनसंख्या के 74 प्रतिशत है। स्पेनी 19.5 प्रतिशत द्वारा बोली जाती है। 2015 में राज्य की आबादी 68,28,065 अनुमानित की गई है। जिस हिसाब से उसका अमेरिकी राज्यों में 14वां स्थान है।\\n\\n\\nश्रेणी:संयुक्त राज्य अमेरिका के राज्य',\n",
       " 'question': 'एरिज़ोना की राजधानी क्या है?',\n",
       " 'answer_text': 'फ़िनक्स',\n",
       " 'answer_start': 123,\n",
       " 'language': 'hindi',\n",
       " 'answers': {'answer_start': [123], 'text': ['फ़िनक्स']}}"
      ]
     },
     "execution_count": 11,
     "metadata": {},
     "output_type": "execute_result"
    }
   ],
   "source": [
    "train_dataset[0]"
   ]
  },
  {
   "cell_type": "code",
   "execution_count": 12,
   "id": "e8e0fbf4",
   "metadata": {
    "execution": {
     "iopub.execute_input": "2021-09-06T19:58:34.740977Z",
     "iopub.status.busy": "2021-09-06T19:58:34.740341Z",
     "iopub.status.idle": "2021-09-06T19:58:40.302285Z",
     "shell.execute_reply": "2021-09-06T19:58:40.301611Z",
     "shell.execute_reply.started": "2021-09-06T18:50:51.619357Z"
    },
    "executionInfo": {
     "elapsed": 4447,
     "status": "ok",
     "timestamp": 1630320408330,
     "user": {
      "displayName": "Rishabh Pandey",
      "photoUrl": "",
      "userId": "07861759771544908266"
     },
     "user_tz": -330
    },
    "id": "q8UfYlmc2K_i",
    "outputId": "034a3e6c-2ac1-48bd-ff36-6411700723ca",
    "papermill": {
     "duration": 5.60495,
     "end_time": "2021-09-06T19:58:40.302422",
     "exception": false,
     "start_time": "2021-09-06T19:58:34.697472",
     "status": "completed"
    },
    "tags": []
   },
   "outputs": [],
   "source": [
    "from transformers import AutoTokenizer\n",
    "checkpoint = \"../input/xlm-roberta-squad2/deepset/xlm-roberta-base-squad2\"\n",
    "tokenizer = AutoTokenizer.from_pretrained(checkpoint)"
   ]
  },
  {
   "cell_type": "code",
   "execution_count": 13,
   "id": "19a15ba0",
   "metadata": {
    "execution": {
     "iopub.execute_input": "2021-09-06T19:58:40.387302Z",
     "iopub.status.busy": "2021-09-06T19:58:40.386591Z",
     "iopub.status.idle": "2021-09-06T19:58:40.388999Z",
     "shell.execute_reply": "2021-09-06T19:58:40.389393Z",
     "shell.execute_reply.started": "2021-09-06T18:50:59.825675Z"
    },
    "executionInfo": {
     "elapsed": 8,
     "status": "ok",
     "timestamp": 1630320410329,
     "user": {
      "displayName": "Rishabh Pandey",
      "photoUrl": "",
      "userId": "07861759771544908266"
     },
     "user_tz": -330
    },
    "id": "JIfSzrn_LB_m",
    "papermill": {
     "duration": 0.046236,
     "end_time": "2021-09-06T19:58:40.389518",
     "exception": false,
     "start_time": "2021-09-06T19:58:40.343282",
     "status": "completed"
    },
    "tags": []
   },
   "outputs": [],
   "source": [
    "import transformers\n",
    "assert isinstance(tokenizer, transformers.PreTrainedTokenizerFast)"
   ]
  },
  {
   "cell_type": "code",
   "execution_count": 14,
   "id": "566ca2f0",
   "metadata": {
    "execution": {
     "iopub.execute_input": "2021-09-06T19:58:40.475001Z",
     "iopub.status.busy": "2021-09-06T19:58:40.474150Z",
     "iopub.status.idle": "2021-09-06T19:58:40.476805Z",
     "shell.execute_reply": "2021-09-06T19:58:40.477273Z",
     "shell.execute_reply.started": "2021-09-06T18:51:02.266508Z"
    },
    "executionInfo": {
     "elapsed": 424,
     "status": "ok",
     "timestamp": 1630320414641,
     "user": {
      "displayName": "Rishabh Pandey",
      "photoUrl": "",
      "userId": "07861759771544908266"
     },
     "user_tz": -330
    },
    "id": "B6roT6qRLK0X",
    "papermill": {
     "duration": 0.047904,
     "end_time": "2021-09-06T19:58:40.477394",
     "exception": false,
     "start_time": "2021-09-06T19:58:40.429490",
     "status": "completed"
    },
    "tags": []
   },
   "outputs": [],
   "source": [
    "pad_on_right = tokenizer.padding_side == \"right\""
   ]
  },
  {
   "cell_type": "code",
   "execution_count": 15,
   "id": "998c759e",
   "metadata": {
    "execution": {
     "iopub.execute_input": "2021-09-06T19:58:40.562027Z",
     "iopub.status.busy": "2021-09-06T19:58:40.561286Z",
     "iopub.status.idle": "2021-09-06T19:58:40.563900Z",
     "shell.execute_reply": "2021-09-06T19:58:40.563467Z",
     "shell.execute_reply.started": "2021-09-06T18:51:06.294745Z"
    },
    "executionInfo": {
     "elapsed": 8,
     "status": "ok",
     "timestamp": 1630320416997,
     "user": {
      "displayName": "Rishabh Pandey",
      "photoUrl": "",
      "userId": "07861759771544908266"
     },
     "user_tz": -330
    },
    "id": "5kXcnm5BOKsM",
    "papermill": {
     "duration": 0.045941,
     "end_time": "2021-09-06T19:58:40.564006",
     "exception": false,
     "start_time": "2021-09-06T19:58:40.518065",
     "status": "completed"
    },
    "tags": []
   },
   "outputs": [],
   "source": [
    "max_length = 384 # The maximum length of a feature (question and context)\n",
    "doc_stride = 128"
   ]
  },
  {
   "cell_type": "code",
   "execution_count": 16,
   "id": "84296e00",
   "metadata": {
    "execution": {
     "iopub.execute_input": "2021-09-06T19:58:40.658586Z",
     "iopub.status.busy": "2021-09-06T19:58:40.657814Z",
     "iopub.status.idle": "2021-09-06T19:58:40.660098Z",
     "shell.execute_reply": "2021-09-06T19:58:40.660528Z",
     "shell.execute_reply.started": "2021-09-06T18:51:10.980414Z"
    },
    "executionInfo": {
     "elapsed": 406,
     "status": "ok",
     "timestamp": 1630320420749,
     "user": {
      "displayName": "Rishabh Pandey",
      "photoUrl": "",
      "userId": "07861759771544908266"
     },
     "user_tz": -330
    },
    "id": "BCJZAwWGWQWJ",
    "papermill": {
     "duration": 0.055726,
     "end_time": "2021-09-06T19:58:40.660644",
     "exception": false,
     "start_time": "2021-09-06T19:58:40.604918",
     "status": "completed"
    },
    "tags": []
   },
   "outputs": [],
   "source": [
    "def prepare_train_features(examples):\n",
    "    # Some of the questions have lots of whitespace on the left, which is not useful and will make the\n",
    "    # truncation of the context fail (the tokenized question will take a lots of space). So we remove that\n",
    "    # left whitespace\n",
    "    examples[\"question\"] = [q.lstrip() for q in examples[\"question\"]]\n",
    "\n",
    "    # Tokenize our examples with truncation and padding, but keep the overflows using a stride. This results\n",
    "    # in one example possible giving several features when a context is long, each of those features having a\n",
    "    # context that overlaps a bit the context of the previous feature.\n",
    "    tokenized_examples = tokenizer(\n",
    "        examples[\"question\" if pad_on_right else \"context\"],\n",
    "        examples[\"context\" if pad_on_right else \"question\"],\n",
    "        truncation=\"only_second\" if pad_on_right else \"only_first\",\n",
    "        max_length=max_length,\n",
    "        stride=doc_stride,\n",
    "        return_overflowing_tokens=True,\n",
    "        return_offsets_mapping=True,\n",
    "        padding=\"max_length\",\n",
    "    )\n",
    "\n",
    "    # Since one example might give us several features if it has a long context, we need a map from a feature to\n",
    "    # its corresponding example. This key gives us just that.\n",
    "    sample_mapping = tokenized_examples.pop(\"overflow_to_sample_mapping\")\n",
    "    # The offset mappings will give us a map from token to character position in the original context. This will\n",
    "    # help us compute the start_positions and end_positions.\n",
    "    offset_mapping = tokenized_examples.pop(\"offset_mapping\")\n",
    "\n",
    "    # Let's label those examples!\n",
    "    tokenized_examples[\"start_positions\"] = []\n",
    "    tokenized_examples[\"end_positions\"] = []\n",
    "\n",
    "    for i, offsets in enumerate(offset_mapping):\n",
    "        # We will label impossible answers with the index of the CLS token.\n",
    "        input_ids = tokenized_examples[\"input_ids\"][i]\n",
    "        cls_index = input_ids.index(tokenizer.cls_token_id)\n",
    "\n",
    "        # Grab the sequence corresponding to that example (to know what is the context and what is the question).\n",
    "        sequence_ids = tokenized_examples.sequence_ids(i)\n",
    "\n",
    "        # One example can give several spans, this is the index of the example containing this span of text.\n",
    "        sample_index = sample_mapping[i]\n",
    "        answers = examples[\"answers\"][sample_index]\n",
    "        # If no answers are given, set the cls_index as answer.\n",
    "        if len(answers[\"answer_start\"]) == 0:\n",
    "            tokenized_examples[\"start_positions\"].append(cls_index)\n",
    "            tokenized_examples[\"end_positions\"].append(cls_index)\n",
    "        else:\n",
    "            # Start/end character index of the answer in the text.\n",
    "            start_char = answers[\"answer_start\"][0]\n",
    "            end_char = start_char + len(answers[\"text\"][0])\n",
    "\n",
    "            # Start token index of the current span in the text.\n",
    "            token_start_index = 0\n",
    "            while sequence_ids[token_start_index] != (1 if pad_on_right else 0):\n",
    "                token_start_index += 1\n",
    "\n",
    "            # End token index of the current span in the text.\n",
    "            token_end_index = len(input_ids) - 1\n",
    "            while sequence_ids[token_end_index] != (1 if pad_on_right else 0):\n",
    "                token_end_index -= 1\n",
    "\n",
    "            # Detect if the answer is out of the span (in which case this feature is labeled with the CLS index).\n",
    "            if not (offsets[token_start_index][0] <= start_char and offsets[token_end_index][1] >= end_char):\n",
    "                tokenized_examples[\"start_positions\"].append(cls_index)\n",
    "                tokenized_examples[\"end_positions\"].append(cls_index)\n",
    "            else:\n",
    "                # Otherwise move the token_start_index and token_end_index to the two ends of the answer.\n",
    "                # Note: we could go after the last offset if the answer is the last word (edge case).\n",
    "                while token_start_index < len(offsets) and offsets[token_start_index][0] <= start_char:\n",
    "                    token_start_index += 1\n",
    "                tokenized_examples[\"start_positions\"].append(token_start_index - 1)\n",
    "                while offsets[token_end_index][1] >= end_char:\n",
    "                    token_end_index -= 1\n",
    "                tokenized_examples[\"end_positions\"].append(token_end_index + 1)\n",
    "\n",
    "    return tokenized_examples"
   ]
  },
  {
   "cell_type": "code",
   "execution_count": 17,
   "id": "ca50c0f4",
   "metadata": {
    "execution": {
     "iopub.execute_input": "2021-09-06T19:58:40.779755Z",
     "iopub.status.busy": "2021-09-06T19:58:40.778960Z",
     "iopub.status.idle": "2021-09-06T19:59:17.000062Z",
     "shell.execute_reply": "2021-09-06T19:59:17.000668Z",
     "shell.execute_reply.started": "2021-09-06T18:51:21.207677Z"
    },
    "executionInfo": {
     "elapsed": 45825,
     "status": "ok",
     "timestamp": 1630320469669,
     "user": {
      "displayName": "Rishabh Pandey",
      "photoUrl": "",
      "userId": "07861759771544908266"
     },
     "user_tz": -330
    },
    "id": "R7cYnvdOjvPy",
    "outputId": "2f8c079e-a312-4bcd-8e35-dbf8e0c35352",
    "papermill": {
     "duration": 36.300422,
     "end_time": "2021-09-06T19:59:17.000868",
     "exception": false,
     "start_time": "2021-09-06T19:58:40.700446",
     "status": "completed"
    },
    "tags": []
   },
   "outputs": [
    {
     "data": {
      "application/vnd.jupyter.widget-view+json": {
       "model_id": "569c7c2ca420482da85acb2f683df95a",
       "version_major": 2,
       "version_minor": 0
      },
      "text/plain": [
       "HBox(children=(FloatProgress(value=0.0, max=2.0), HTML(value='')))"
      ]
     },
     "metadata": {},
     "output_type": "display_data"
    },
    {
     "name": "stdout",
     "output_type": "stream",
     "text": [
      "\n"
     ]
    },
    {
     "data": {
      "application/vnd.jupyter.widget-view+json": {
       "model_id": "294116137d66498fa1f77176529ac425",
       "version_major": 2,
       "version_minor": 0
      },
      "text/plain": [
       "HBox(children=(FloatProgress(value=0.0, max=1.0), HTML(value='')))"
      ]
     },
     "metadata": {},
     "output_type": "display_data"
    },
    {
     "name": "stdout",
     "output_type": "stream",
     "text": [
      "\n"
     ]
    }
   ],
   "source": [
    "tokenized_train = train_dataset.map(prepare_train_features, batched=True, remove_columns=train_dataset.column_names)\n",
    "tokenized_valid = valid_dataset.map(prepare_train_features, batched=True, remove_columns=valid_dataset.column_names)"
   ]
  },
  {
   "cell_type": "code",
   "execution_count": 18,
   "id": "611008ca",
   "metadata": {
    "execution": {
     "iopub.execute_input": "2021-09-06T19:59:17.088842Z",
     "iopub.status.busy": "2021-09-06T19:59:17.088329Z",
     "iopub.status.idle": "2021-09-06T19:59:33.005499Z",
     "shell.execute_reply": "2021-09-06T19:59:33.005000Z",
     "shell.execute_reply.started": "2021-09-06T18:58:10.171225Z"
    },
    "executionInfo": {
     "elapsed": 1590,
     "status": "ok",
     "timestamp": 1630320477116,
     "user": {
      "displayName": "Rishabh Pandey",
      "photoUrl": "",
      "userId": "07861759771544908266"
     },
     "user_tz": -330
    },
    "id": "6W7H4bbpwnTv",
    "papermill": {
     "duration": 15.961973,
     "end_time": "2021-09-06T19:59:33.005634",
     "exception": false,
     "start_time": "2021-09-06T19:59:17.043661",
     "status": "completed"
    },
    "tags": []
   },
   "outputs": [],
   "source": [
    "from transformers import AutoModelForQuestionAnswering,TrainingArguments,Trainer\n",
    "model = AutoModelForQuestionAnswering.from_pretrained(checkpoint)"
   ]
  },
  {
   "cell_type": "code",
   "execution_count": 19,
   "id": "4edfa0ce",
   "metadata": {
    "execution": {
     "iopub.execute_input": "2021-09-06T19:59:33.096948Z",
     "iopub.status.busy": "2021-09-06T19:59:33.096403Z",
     "iopub.status.idle": "2021-09-06T19:59:33.100787Z",
     "shell.execute_reply": "2021-09-06T19:59:33.101155Z",
     "shell.execute_reply.started": "2021-09-06T18:58:37.896232Z"
    },
    "papermill": {
     "duration": 0.053471,
     "end_time": "2021-09-06T19:59:33.101311",
     "exception": false,
     "start_time": "2021-09-06T19:59:33.047840",
     "status": "completed"
    },
    "tags": []
   },
   "outputs": [
    {
     "name": "stdout",
     "output_type": "stream",
     "text": [
      "env: WANDB_DISABLED=True\n"
     ]
    }
   ],
   "source": [
    "%env WANDB_DISABLED=True"
   ]
  },
  {
   "cell_type": "code",
   "execution_count": 20,
   "id": "5fb11017",
   "metadata": {
    "execution": {
     "iopub.execute_input": "2021-09-06T19:59:33.230082Z",
     "iopub.status.busy": "2021-09-06T19:59:33.189085Z",
     "iopub.status.idle": "2021-09-06T19:59:33.240940Z",
     "shell.execute_reply": "2021-09-06T19:59:33.240233Z",
     "shell.execute_reply.started": "2021-09-06T19:00:59.824476Z"
    },
    "papermill": {
     "duration": 0.097741,
     "end_time": "2021-09-06T19:59:33.241056",
     "exception": false,
     "start_time": "2021-09-06T19:59:33.143315",
     "status": "completed"
    },
    "tags": []
   },
   "outputs": [
    {
     "name": "stderr",
     "output_type": "stream",
     "text": [
      "Using the `WAND_DISABLED` environment variable is deprecated and will be removed in v5. Use the --report_to flag to control the integrations used for logging result (for instance --report_to none).\n"
     ]
    }
   ],
   "source": [
    "batch_size = 4\n",
    "args = TrainingArguments(\n",
    "    f\"chaii-qa\",\n",
    "    evaluation_strategy = \"epoch\",\n",
    "    learning_rate=2e-5,\n",
    "    warmup_ratio=0.1,\n",
    "    gradient_accumulation_steps=8,\n",
    "    per_device_train_batch_size=batch_size,\n",
    "    per_device_eval_batch_size=batch_size,\n",
    "    num_train_epochs=1,\n",
    "    weight_decay=0.01,\n",
    ")"
   ]
  },
  {
   "cell_type": "code",
   "execution_count": 21,
   "id": "a98555a9",
   "metadata": {
    "execution": {
     "iopub.execute_input": "2021-09-06T19:59:33.331428Z",
     "iopub.status.busy": "2021-09-06T19:59:33.329540Z",
     "iopub.status.idle": "2021-09-06T19:59:33.334323Z",
     "shell.execute_reply": "2021-09-06T19:59:33.334912Z",
     "shell.execute_reply.started": "2021-09-04T15:20:31.732562Z"
    },
    "executionInfo": {
     "elapsed": 734,
     "status": "ok",
     "timestamp": 1630320538348,
     "user": {
      "displayName": "Rishabh Pandey",
      "photoUrl": "",
      "userId": "07861759771544908266"
     },
     "user_tz": -330
    },
    "id": "YhTcrktGnR_L",
    "papermill": {
     "duration": 0.051352,
     "end_time": "2021-09-06T19:59:33.335072",
     "exception": false,
     "start_time": "2021-09-06T19:59:33.283720",
     "status": "completed"
    },
    "tags": []
   },
   "outputs": [
    {
     "name": "stderr",
     "output_type": "stream",
     "text": [
      "Using the `WAND_DISABLED` environment variable is deprecated and will be removed in v5. Use the --report_to flag to control the integrations used for logging result (for instance --report_to none).\n"
     ]
    }
   ],
   "source": [
    "\n",
    "args = TrainingArguments(\n",
    "    f\"test-squad\",\n",
    "    evaluation_strategy = \"epoch\",\n",
    "    learning_rate=2e-5,\n",
    "    warmup_ratio=0.1,\n",
    "    gradient_accumulation_steps=8,\n",
    "    per_device_train_batch_size=batch_size,\n",
    "    per_device_eval_batch_size=batch_size,\n",
    "    num_train_epochs=1,\n",
    "    weight_decay=0.01,\n",
    "    )"
   ]
  },
  {
   "cell_type": "code",
   "execution_count": 22,
   "id": "ff1870ad",
   "metadata": {
    "execution": {
     "iopub.execute_input": "2021-09-06T19:59:33.423637Z",
     "iopub.status.busy": "2021-09-06T19:59:33.423101Z",
     "iopub.status.idle": "2021-09-06T19:59:33.426591Z",
     "shell.execute_reply": "2021-09-06T19:59:33.427018Z",
     "shell.execute_reply.started": "2021-09-06T19:01:04.435730Z"
    },
    "executionInfo": {
     "elapsed": 475,
     "status": "ok",
     "timestamp": 1630320542825,
     "user": {
      "displayName": "Rishabh Pandey",
      "photoUrl": "",
      "userId": "07861759771544908266"
     },
     "user_tz": -330
    },
    "id": "Z4SC-pZxnx7v",
    "papermill": {
     "duration": 0.048892,
     "end_time": "2021-09-06T19:59:33.427150",
     "exception": false,
     "start_time": "2021-09-06T19:59:33.378258",
     "status": "completed"
    },
    "tags": []
   },
   "outputs": [],
   "source": [
    "from transformers import default_data_collator\n",
    "\n",
    "data_collator = default_data_collator"
   ]
  },
  {
   "cell_type": "code",
   "execution_count": 23,
   "id": "a6d641cf",
   "metadata": {
    "execution": {
     "iopub.execute_input": "2021-09-06T19:59:33.516465Z",
     "iopub.status.busy": "2021-09-06T19:59:33.515685Z",
     "iopub.status.idle": "2021-09-06T19:59:40.591318Z",
     "shell.execute_reply": "2021-09-06T19:59:40.590799Z",
     "shell.execute_reply.started": "2021-09-06T19:01:07.833732Z"
    },
    "executionInfo": {
     "elapsed": 9690,
     "status": "ok",
     "timestamp": 1630320554587,
     "user": {
      "displayName": "Rishabh Pandey",
      "photoUrl": "",
      "userId": "07861759771544908266"
     },
     "user_tz": -330
    },
    "id": "BM-LYPQIoIxW",
    "papermill": {
     "duration": 7.121545,
     "end_time": "2021-09-06T19:59:40.591462",
     "exception": false,
     "start_time": "2021-09-06T19:59:33.469917",
     "status": "completed"
    },
    "tags": []
   },
   "outputs": [],
   "source": [
    "trainer = Trainer(\n",
    "    model,\n",
    "    args,\n",
    "    train_dataset=tokenized_train,\n",
    "    eval_dataset=tokenized_valid,\n",
    "    data_collator=data_collator,\n",
    "    tokenizer=tokenizer,\n",
    ")"
   ]
  },
  {
   "cell_type": "code",
   "execution_count": 24,
   "id": "7d5908d5",
   "metadata": {
    "execution": {
     "iopub.execute_input": "2021-09-06T19:59:40.870530Z",
     "iopub.status.busy": "2021-09-06T19:59:40.869603Z",
     "iopub.status.idle": "2021-09-06T20:11:00.379223Z",
     "shell.execute_reply": "2021-09-06T20:11:00.378760Z",
     "shell.execute_reply.started": "2021-09-06T19:01:21.904643Z"
    },
    "executionInfo": {
     "elapsed": 16193,
     "status": "ok",
     "timestamp": 1630329334414,
     "user": {
      "displayName": "Rishabh Pandey",
      "photoUrl": "",
      "userId": "07861759771544908266"
     },
     "user_tz": -330
    },
    "id": "TD949HRxoa5O",
    "outputId": "4a70bf0c-00d1-426d-f471-2d3acaa836e3",
    "papermill": {
     "duration": 679.744081,
     "end_time": "2021-09-06T20:11:00.379377",
     "exception": false,
     "start_time": "2021-09-06T19:59:40.635296",
     "status": "completed"
    },
    "tags": []
   },
   "outputs": [
    {
     "data": {
      "text/html": [
       "\n",
       "    <div>\n",
       "      \n",
       "      <progress value='435' max='435' style='width:300px; height:20px; vertical-align: middle;'></progress>\n",
       "      [435/435 11:16, Epoch 0/1]\n",
       "    </div>\n",
       "    <table border=\"1\" class=\"dataframe\">\n",
       "  <thead>\n",
       "    <tr style=\"text-align: left;\">\n",
       "      <th>Epoch</th>\n",
       "      <th>Training Loss</th>\n",
       "      <th>Validation Loss</th>\n",
       "    </tr>\n",
       "  </thead>\n",
       "  <tbody>\n",
       "    <tr>\n",
       "      <td>0</td>\n",
       "      <td>No log</td>\n",
       "      <td>0.322986</td>\n",
       "    </tr>\n",
       "  </tbody>\n",
       "</table><p>"
      ],
      "text/plain": [
       "<IPython.core.display.HTML object>"
      ]
     },
     "metadata": {},
     "output_type": "display_data"
    },
    {
     "data": {
      "text/plain": [
       "TrainOutput(global_step=435, training_loss=0.3458642718435704, metrics={'train_runtime': 679.2327, 'train_samples_per_second': 0.64, 'total_flos': 8898434953297920.0, 'epoch': 1.0, 'init_mem_cpu_alloc_delta': 984129536, 'init_mem_gpu_alloc_delta': 1109893120, 'init_mem_cpu_peaked_delta': 767692800, 'init_mem_gpu_peaked_delta': 0, 'train_mem_cpu_alloc_delta': 78344192, 'train_mem_gpu_alloc_delta': 3330140160, 'train_mem_cpu_peaked_delta': 0, 'train_mem_gpu_peaked_delta': 2135372800})"
      ]
     },
     "execution_count": 24,
     "metadata": {},
     "output_type": "execute_result"
    }
   ],
   "source": [
    "trainer.train()"
   ]
  },
  {
   "cell_type": "code",
   "execution_count": 25,
   "id": "dbf4e0cc",
   "metadata": {
    "execution": {
     "iopub.execute_input": "2021-09-06T20:11:00.471709Z",
     "iopub.status.busy": "2021-09-06T20:11:00.470906Z",
     "iopub.status.idle": "2021-09-06T20:11:04.681869Z",
     "shell.execute_reply": "2021-09-06T20:11:04.680780Z",
     "shell.execute_reply.started": "2021-09-06T19:13:01.082836Z"
    },
    "executionInfo": {
     "elapsed": 2075,
     "status": "ok",
     "timestamp": 1630330537549,
     "user": {
      "displayName": "Rishabh Pandey",
      "photoUrl": "",
      "userId": "07861759771544908266"
     },
     "user_tz": -330
    },
    "id": "WhXHq0d1RVS9",
    "outputId": "60c73b50-3fc5-48b5-f126-e6cdb8a419f9",
    "papermill": {
     "duration": 4.25843,
     "end_time": "2021-09-06T20:11:04.682021",
     "exception": false,
     "start_time": "2021-09-06T20:11:00.423591",
     "status": "completed"
    },
    "tags": []
   },
   "outputs": [],
   "source": [
    "trainer.save_model(\"trained2\")"
   ]
  },
  {
   "cell_type": "code",
   "execution_count": 26,
   "id": "68befea6",
   "metadata": {
    "execution": {
     "iopub.execute_input": "2021-09-06T20:11:04.775823Z",
     "iopub.status.busy": "2021-09-06T20:11:04.775034Z",
     "iopub.status.idle": "2021-09-06T20:11:04.777787Z",
     "shell.execute_reply": "2021-09-06T20:11:04.777359Z",
     "shell.execute_reply.started": "2021-09-06T19:13:08.264925Z"
    },
    "papermill": {
     "duration": 0.053008,
     "end_time": "2021-09-06T20:11:04.777891",
     "exception": false,
     "start_time": "2021-09-06T20:11:04.724883",
     "status": "completed"
    },
    "tags": []
   },
   "outputs": [],
   "source": [
    "def prepare_validation_features(examples):\n",
    "    # Some of the questions have lots of whitespace on the left, which is not useful and will make the\n",
    "    # truncation of the context fail (the tokenized question will take a lots of space). So we remove that\n",
    "    # left whitespace\n",
    "    examples[\"question\"] = [q.lstrip() for q in examples[\"question\"]]\n",
    "\n",
    "    # Tokenize our examples with truncation and maybe padding, but keep the overflows using a stride. This results\n",
    "    # in one example possible giving several features when a context is long, each of those features having a\n",
    "    # context that overlaps a bit the context of the previous feature.\n",
    "    tokenized_examples = tokenizer(\n",
    "        examples[\"question\" if pad_on_right else \"context\"],\n",
    "        examples[\"context\" if pad_on_right else \"question\"],\n",
    "        truncation=\"only_second\" if pad_on_right else \"only_first\",\n",
    "        max_length=max_length,\n",
    "        stride=doc_stride,\n",
    "        return_overflowing_tokens=True,\n",
    "        return_offsets_mapping=True,\n",
    "        padding=\"max_length\",\n",
    "    )\n",
    "\n",
    "    # Since one example might give us several features if it has a long context, we need a map from a feature to\n",
    "    # its corresponding example. This key gives us just that.\n",
    "    sample_mapping = tokenized_examples.pop(\"overflow_to_sample_mapping\")\n",
    "\n",
    "    # We keep the example_id that gave us this feature and we will store the offset mappings.\n",
    "    tokenized_examples[\"example_id\"] = []\n",
    "\n",
    "    for i in range(len(tokenized_examples[\"input_ids\"])):\n",
    "        # Grab the sequence corresponding to that example (to know what is the context and what is the question).\n",
    "        sequence_ids = tokenized_examples.sequence_ids(i)\n",
    "        context_index = 1 if pad_on_right else 0\n",
    "\n",
    "        # One example can give several spans, this is the index of the example containing this span of text.\n",
    "        sample_index = sample_mapping[i]\n",
    "        tokenized_examples[\"example_id\"].append(examples[\"id\"][sample_index])\n",
    "\n",
    "        # Set to None the offset_mapping that are not part of the context so it's easy to determine if a token\n",
    "        # position is part of the context or not.\n",
    "        tokenized_examples[\"offset_mapping\"][i] = [\n",
    "            (o if sequence_ids[k] == context_index else None)\n",
    "            for k, o in enumerate(tokenized_examples[\"offset_mapping\"][i])\n",
    "        ]\n",
    "\n",
    "    return tokenized_examples\n"
   ]
  },
  {
   "cell_type": "code",
   "execution_count": 27,
   "id": "bd5fbe79",
   "metadata": {
    "execution": {
     "iopub.execute_input": "2021-09-06T20:11:04.935281Z",
     "iopub.status.busy": "2021-09-06T20:11:04.934365Z",
     "iopub.status.idle": "2021-09-06T20:11:08.848809Z",
     "shell.execute_reply": "2021-09-06T20:11:08.848222Z",
     "shell.execute_reply.started": "2021-09-06T19:13:13.205807Z"
    },
    "papermill": {
     "duration": 4.005066,
     "end_time": "2021-09-06T20:11:08.848966",
     "exception": false,
     "start_time": "2021-09-06T20:11:04.843900",
     "status": "completed"
    },
    "tags": []
   },
   "outputs": [
    {
     "data": {
      "application/vnd.jupyter.widget-view+json": {
       "model_id": "e66acb9ada634043ac93dc7656909d82",
       "version_major": 2,
       "version_minor": 0
      },
      "text/plain": [
       "HBox(children=(FloatProgress(value=0.0, max=1.0), HTML(value='')))"
      ]
     },
     "metadata": {},
     "output_type": "display_data"
    },
    {
     "name": "stdout",
     "output_type": "stream",
     "text": [
      "\n"
     ]
    }
   ],
   "source": [
    "validation_features_train = valid_dataset.map(\n",
    "    prepare_validation_features,\n",
    "    batched=True,\n",
    "    remove_columns=valid_dataset.column_names\n",
    ")"
   ]
  },
  {
   "cell_type": "code",
   "execution_count": 28,
   "id": "d296606d",
   "metadata": {
    "execution": {
     "iopub.execute_input": "2021-09-06T20:11:08.942031Z",
     "iopub.status.busy": "2021-09-06T20:11:08.941330Z",
     "iopub.status.idle": "2021-09-06T20:11:08.944403Z",
     "shell.execute_reply": "2021-09-06T20:11:08.944811Z",
     "shell.execute_reply.started": "2021-09-06T19:15:03.928847Z"
    },
    "papermill": {
     "duration": 0.051405,
     "end_time": "2021-09-06T20:11:08.944934",
     "exception": false,
     "start_time": "2021-09-06T20:11:08.893529",
     "status": "completed"
    },
    "tags": []
   },
   "outputs": [
    {
     "data": {
      "text/plain": [
       "816"
      ]
     },
     "execution_count": 28,
     "metadata": {},
     "output_type": "execute_result"
    }
   ],
   "source": [
    "len(validation_features_train)"
   ]
  },
  {
   "cell_type": "code",
   "execution_count": 29,
   "id": "d4057e98",
   "metadata": {
    "execution": {
     "iopub.execute_input": "2021-09-06T20:11:09.039339Z",
     "iopub.status.busy": "2021-09-06T20:11:09.038729Z",
     "iopub.status.idle": "2021-09-06T20:11:09.043881Z",
     "shell.execute_reply": "2021-09-06T20:11:09.043465Z",
     "shell.execute_reply.started": "2021-09-06T19:15:31.932878Z"
    },
    "papermill": {
     "duration": 0.054276,
     "end_time": "2021-09-06T20:11:09.043995",
     "exception": false,
     "start_time": "2021-09-06T20:11:08.989719",
     "status": "completed"
    },
    "tags": []
   },
   "outputs": [
    {
     "data": {
      "text/plain": [
       "Dataset({\n",
       "    features: ['attention_mask', 'example_id', 'input_ids', 'offset_mapping'],\n",
       "    num_rows: 816\n",
       "})"
      ]
     },
     "execution_count": 29,
     "metadata": {},
     "output_type": "execute_result"
    }
   ],
   "source": [
    "validation_features_train"
   ]
  },
  {
   "cell_type": "code",
   "execution_count": 30,
   "id": "cd543b72",
   "metadata": {
    "execution": {
     "iopub.execute_input": "2021-09-06T20:11:09.156460Z",
     "iopub.status.busy": "2021-09-06T20:11:09.155824Z",
     "iopub.status.idle": "2021-09-06T20:11:11.041687Z",
     "shell.execute_reply": "2021-09-06T20:11:11.042099Z",
     "shell.execute_reply.started": "2021-09-06T19:19:22.107735Z"
    },
    "papermill": {
     "duration": 1.952791,
     "end_time": "2021-09-06T20:11:11.042258",
     "exception": false,
     "start_time": "2021-09-06T20:11:09.089467",
     "status": "completed"
    },
    "tags": []
   },
   "outputs": [
    {
     "data": {
      "application/vnd.jupyter.widget-view+json": {
       "model_id": "fc4a7ede14aa46e89f91e8b2139fc760",
       "version_major": 2,
       "version_minor": 0
      },
      "text/plain": [
       "HBox(children=(FloatProgress(value=0.0, max=816.0), HTML(value='')))"
      ]
     },
     "metadata": {},
     "output_type": "display_data"
    },
    {
     "name": "stdout",
     "output_type": "stream",
     "text": [
      "\n"
     ]
    },
    {
     "data": {
      "text/plain": [
       "Dataset({\n",
       "    features: ['attention_mask', 'input_ids'],\n",
       "    num_rows: 816\n",
       "})"
      ]
     },
     "execution_count": 30,
     "metadata": {},
     "output_type": "execute_result"
    }
   ],
   "source": [
    "valid_feats_small = validation_features_train.map(lambda example: example, remove_columns=['example_id', 'offset_mapping'])\n",
    "valid_feats_small"
   ]
  },
  {
   "cell_type": "code",
   "execution_count": 31,
   "id": "24beda6f",
   "metadata": {
    "execution": {
     "iopub.execute_input": "2021-09-06T20:11:11.346342Z",
     "iopub.status.busy": "2021-09-06T20:11:11.345732Z",
     "iopub.status.idle": "2021-09-06T20:11:24.402072Z",
     "shell.execute_reply": "2021-09-06T20:11:24.401579Z",
     "shell.execute_reply.started": "2021-09-06T19:19:35.275841Z"
    },
    "papermill": {
     "duration": 13.314275,
     "end_time": "2021-09-06T20:11:24.402245",
     "exception": false,
     "start_time": "2021-09-06T20:11:11.087970",
     "status": "completed"
    },
    "tags": []
   },
   "outputs": [
    {
     "data": {
      "text/html": [
       "\n",
       "    <div>\n",
       "      \n",
       "      <progress value='221' max='204' style='width:300px; height:20px; vertical-align: middle;'></progress>\n",
       "      [204/204 00:22]\n",
       "    </div>\n",
       "    "
      ],
      "text/plain": [
       "<IPython.core.display.HTML object>"
      ]
     },
     "metadata": {},
     "output_type": "display_data"
    }
   ],
   "source": [
    "raw_predictions = trainer.predict(valid_feats_small)\n"
   ]
  },
  {
   "cell_type": "code",
   "execution_count": 32,
   "id": "4e5a73ea",
   "metadata": {
    "execution": {
     "iopub.execute_input": "2021-09-06T20:11:24.498060Z",
     "iopub.status.busy": "2021-09-06T20:11:24.496825Z",
     "iopub.status.idle": "2021-09-06T20:11:24.499242Z",
     "shell.execute_reply": "2021-09-06T20:11:24.499673Z",
     "shell.execute_reply.started": "2021-09-06T19:21:09.453981Z"
    },
    "papermill": {
     "duration": 0.051272,
     "end_time": "2021-09-06T20:11:24.499796",
     "exception": false,
     "start_time": "2021-09-06T20:11:24.448524",
     "status": "completed"
    },
    "tags": []
   },
   "outputs": [],
   "source": [
    "max_answer_length = 30"
   ]
  },
  {
   "cell_type": "code",
   "execution_count": 33,
   "id": "badea725",
   "metadata": {
    "execution": {
     "iopub.execute_input": "2021-09-06T20:11:24.797833Z",
     "iopub.status.busy": "2021-09-06T20:11:24.786705Z",
     "iopub.status.idle": "2021-09-06T20:11:26.158899Z",
     "shell.execute_reply": "2021-09-06T20:11:26.158433Z",
     "shell.execute_reply.started": "2021-09-06T19:21:27.636891Z"
    },
    "papermill": {
     "duration": 1.613678,
     "end_time": "2021-09-06T20:11:26.159035",
     "exception": false,
     "start_time": "2021-09-06T20:11:24.545357",
     "status": "completed"
    },
    "tags": []
   },
   "outputs": [],
   "source": [
    "import collections\n",
    "\n",
    "examples = valid_dataset\n",
    "features = validation_features_train\n",
    "\n",
    "example_id_to_index = {k: i for i, k in enumerate(examples[\"id\"])}\n",
    "features_per_example = collections.defaultdict(list)\n",
    "for i, feature in enumerate(features):\n",
    "    features_per_example[example_id_to_index[feature[\"example_id\"]]].append(i)"
   ]
  },
  {
   "cell_type": "code",
   "execution_count": 34,
   "id": "25940a78",
   "metadata": {
    "execution": {
     "iopub.execute_input": "2021-09-06T20:11:26.265434Z",
     "iopub.status.busy": "2021-09-06T20:11:26.264671Z",
     "iopub.status.idle": "2021-09-06T20:11:26.267277Z",
     "shell.execute_reply": "2021-09-06T20:11:26.267687Z",
     "shell.execute_reply.started": "2021-09-06T19:22:09.685276Z"
    },
    "papermill": {
     "duration": 0.061958,
     "end_time": "2021-09-06T20:11:26.267825",
     "exception": false,
     "start_time": "2021-09-06T20:11:26.205867",
     "status": "completed"
    },
    "tags": []
   },
   "outputs": [],
   "source": [
    "from tqdm.auto import tqdm\n",
    "\n",
    "def postprocess_qa_predictions(examples, features, raw_predictions, n_best_size = 20, max_answer_length = 30):\n",
    "    all_start_logits, all_end_logits = raw_predictions\n",
    "    # Build a map example to its corresponding features.\n",
    "    example_id_to_index = {k: i for i, k in enumerate(examples[\"id\"])}\n",
    "    features_per_example = collections.defaultdict(list)\n",
    "    for i, feature in enumerate(features):\n",
    "        features_per_example[example_id_to_index[feature[\"example_id\"]]].append(i)\n",
    "\n",
    "    # The dictionaries we have to fill.\n",
    "    predictions = collections.OrderedDict()\n",
    "\n",
    "    # Logging.\n",
    "    print(f\"Post-processing {len(examples)} example predictions split into {len(features)} features.\")\n",
    "\n",
    "    # Let's loop over all the examples!\n",
    "    for example_index, example in enumerate(tqdm(examples)):\n",
    "        # Those are the indices of the features associated to the current example.\n",
    "        feature_indices = features_per_example[example_index]\n",
    "\n",
    "        min_null_score = None # Only used if squad_v2 is True.\n",
    "        valid_answers = []\n",
    "        \n",
    "        context = example[\"context\"]\n",
    "        # Looping through all the features associated to the current example.\n",
    "        for feature_index in feature_indices:\n",
    "            # We grab the predictions of the model for this feature.\n",
    "            start_logits = all_start_logits[feature_index]\n",
    "            end_logits = all_end_logits[feature_index]\n",
    "            # This is what will allow us to map some the positions in our logits to span of texts in the original\n",
    "            # context.\n",
    "            offset_mapping = features[feature_index][\"offset_mapping\"]\n",
    "\n",
    "            # Update minimum null prediction.\n",
    "            cls_index = features[feature_index][\"input_ids\"].index(tokenizer.cls_token_id)\n",
    "            feature_null_score = start_logits[cls_index] + end_logits[cls_index]\n",
    "            if min_null_score is None or min_null_score < feature_null_score:\n",
    "                min_null_score = feature_null_score\n",
    "\n",
    "            # Go through all possibilities for the `n_best_size` greater start and end logits.\n",
    "            start_indexes = np.argsort(start_logits)[-1 : -n_best_size - 1 : -1].tolist()\n",
    "            end_indexes = np.argsort(end_logits)[-1 : -n_best_size - 1 : -1].tolist()\n",
    "            for start_index in start_indexes:\n",
    "                for end_index in end_indexes:\n",
    "                    # Don't consider out-of-scope answers, either because the indices are out of bounds or correspond\n",
    "                    # to part of the input_ids that are not in the context.\n",
    "                    if (\n",
    "                        start_index >= len(offset_mapping)\n",
    "                        or end_index >= len(offset_mapping)\n",
    "                        or offset_mapping[start_index] is None\n",
    "                        or offset_mapping[end_index] is None\n",
    "                    ):\n",
    "                        continue\n",
    "                    # Don't consider answers with a length that is either < 0 or > max_answer_length.\n",
    "                    if end_index < start_index or end_index - start_index + 1 > max_answer_length:\n",
    "                        continue\n",
    "\n",
    "                    start_char = offset_mapping[start_index][0]\n",
    "                    end_char = offset_mapping[end_index][1]\n",
    "                    valid_answers.append(\n",
    "                        {\n",
    "                            \"score\": start_logits[start_index] + end_logits[end_index],\n",
    "                            \"text\": context[start_char: end_char]\n",
    "                        }\n",
    "                    )\n",
    "        \n",
    "        if len(valid_answers) > 0:\n",
    "            best_answer = sorted(valid_answers, key=lambda x: x[\"score\"], reverse=True)[0]\n",
    "        else:\n",
    "            # In the very rare edge case we have not a single non-null prediction, we create a fake prediction to avoid\n",
    "            # failure.\n",
    "            best_answer = {\"text\": \"\", \"score\": 0.0}\n",
    "        \n",
    "        # Let's pick our final answer: the best one or the null answer (only for squad_v2)\n",
    "        predictions[example[\"id\"]] = best_answer[\"text\"]\n",
    "\n",
    "    return predictions"
   ]
  },
  {
   "cell_type": "code",
   "execution_count": 35,
   "id": "56b227f8",
   "metadata": {
    "execution": {
     "iopub.execute_input": "2021-09-06T20:11:26.363549Z",
     "iopub.status.busy": "2021-09-06T20:11:26.362782Z",
     "iopub.status.idle": "2021-09-06T20:11:31.053041Z",
     "shell.execute_reply": "2021-09-06T20:11:31.053642Z",
     "shell.execute_reply.started": "2021-09-06T19:22:26.388194Z"
    },
    "papermill": {
     "duration": 4.740285,
     "end_time": "2021-09-06T20:11:31.053836",
     "exception": false,
     "start_time": "2021-09-06T20:11:26.313551",
     "status": "completed"
    },
    "tags": []
   },
   "outputs": [
    {
     "name": "stdout",
     "output_type": "stream",
     "text": [
      "Post-processing 64 example predictions split into 816 features.\n"
     ]
    },
    {
     "data": {
      "application/vnd.jupyter.widget-view+json": {
       "model_id": "2c47cfd1e80244a5bbd230a0f6bd5e48",
       "version_major": 2,
       "version_minor": 0
      },
      "text/plain": [
       "HBox(children=(FloatProgress(value=0.0, max=64.0), HTML(value='')))"
      ]
     },
     "metadata": {},
     "output_type": "display_data"
    },
    {
     "name": "stdout",
     "output_type": "stream",
     "text": [
      "\n"
     ]
    }
   ],
   "source": [
    "final_predictions = postprocess_qa_predictions(valid_dataset, validation_features_train, raw_predictions.predictions)"
   ]
  },
  {
   "cell_type": "code",
   "execution_count": 36,
   "id": "84a3a944",
   "metadata": {
    "execution": {
     "iopub.execute_input": "2021-09-06T20:11:31.174488Z",
     "iopub.status.busy": "2021-09-06T20:11:31.173700Z",
     "iopub.status.idle": "2021-09-06T20:11:31.176836Z",
     "shell.execute_reply": "2021-09-06T20:11:31.177447Z",
     "shell.execute_reply.started": "2021-09-06T19:22:33.986544Z"
    },
    "papermill": {
     "duration": 0.072926,
     "end_time": "2021-09-06T20:11:31.177605",
     "exception": false,
     "start_time": "2021-09-06T20:11:31.104679",
     "status": "completed"
    },
    "tags": []
   },
   "outputs": [],
   "source": [
    "references = [{\"id\": ex[\"id\"], \"answer\": ex[\"answers\"]['text'][0]} for ex in valid_dataset]"
   ]
  },
  {
   "cell_type": "code",
   "execution_count": 37,
   "id": "5387c2e6",
   "metadata": {
    "execution": {
     "iopub.execute_input": "2021-09-06T20:11:31.282394Z",
     "iopub.status.busy": "2021-09-06T20:11:31.281784Z",
     "iopub.status.idle": "2021-09-06T20:11:31.285894Z",
     "shell.execute_reply": "2021-09-06T20:11:31.285480Z",
     "shell.execute_reply.started": "2021-09-06T19:22:37.082207Z"
    },
    "papermill": {
     "duration": 0.058033,
     "end_time": "2021-09-06T20:11:31.286007",
     "exception": false,
     "start_time": "2021-09-06T20:11:31.227974",
     "status": "completed"
    },
    "tags": []
   },
   "outputs": [],
   "source": [
    "def jaccard(row): \n",
    "    str1 = row[0]\n",
    "    str2 = row[1]\n",
    "    a = set(str1.lower().split()) \n",
    "    b = set(str2.lower().split())\n",
    "    c = a.intersection(b)\n",
    "    return float(len(c)) / (len(a) + len(b) - len(c))\n"
   ]
  },
  {
   "cell_type": "code",
   "execution_count": 38,
   "id": "c6a346db",
   "metadata": {
    "execution": {
     "iopub.execute_input": "2021-09-06T20:11:31.400649Z",
     "iopub.status.busy": "2021-09-06T20:11:31.399887Z",
     "iopub.status.idle": "2021-09-06T20:11:31.404797Z",
     "shell.execute_reply": "2021-09-06T20:11:31.405284Z",
     "shell.execute_reply.started": "2021-09-06T19:22:39.634668Z"
    },
    "papermill": {
     "duration": 0.07118,
     "end_time": "2021-09-06T20:11:31.405421",
     "exception": false,
     "start_time": "2021-09-06T20:11:31.334241",
     "status": "completed"
    },
    "tags": []
   },
   "outputs": [
    {
     "data": {
      "text/html": [
       "<div>\n",
       "<style scoped>\n",
       "    .dataframe tbody tr th:only-of-type {\n",
       "        vertical-align: middle;\n",
       "    }\n",
       "\n",
       "    .dataframe tbody tr th {\n",
       "        vertical-align: top;\n",
       "    }\n",
       "\n",
       "    .dataframe thead th {\n",
       "        text-align: right;\n",
       "    }\n",
       "</style>\n",
       "<table border=\"1\" class=\"dataframe\">\n",
       "  <thead>\n",
       "    <tr style=\"text-align: right;\">\n",
       "      <th></th>\n",
       "      <th>id</th>\n",
       "      <th>answer</th>\n",
       "      <th>prediction</th>\n",
       "      <th>jaccard</th>\n",
       "    </tr>\n",
       "  </thead>\n",
       "  <tbody>\n",
       "    <tr>\n",
       "      <th>0</th>\n",
       "      <td>dc64d02cf</td>\n",
       "      <td>प्रतिभा पाटील</td>\n",
       "      <td>प्रतिभा पाटील</td>\n",
       "      <td>1.00</td>\n",
       "    </tr>\n",
       "    <tr>\n",
       "      <th>1</th>\n",
       "      <td>98d8542f6</td>\n",
       "      <td>பிங்க்</td>\n",
       "      <td>வெள்ளை</td>\n",
       "      <td>0.00</td>\n",
       "    </tr>\n",
       "    <tr>\n",
       "      <th>2</th>\n",
       "      <td>3ce81e663</td>\n",
       "      <td>मिर्ज़ा असद-उल्लाह बेग ख़ां</td>\n",
       "      <td>असद-उल्लाह बेग ख़ां</td>\n",
       "      <td>0.75</td>\n",
       "    </tr>\n",
       "    <tr>\n",
       "      <th>3</th>\n",
       "      <td>40f4e32da</td>\n",
       "      <td>मीटर प्रति सेकेण्ड2</td>\n",
       "      <td>मीटर प्रति सेकेण्ड2</td>\n",
       "      <td>1.00</td>\n",
       "    </tr>\n",
       "    <tr>\n",
       "      <th>4</th>\n",
       "      <td>bfa4380bd</td>\n",
       "      <td>अगरतला</td>\n",
       "      <td>अगरतला</td>\n",
       "      <td>1.00</td>\n",
       "    </tr>\n",
       "    <tr>\n",
       "      <th>...</th>\n",
       "      <td>...</td>\n",
       "      <td>...</td>\n",
       "      <td>...</td>\n",
       "      <td>...</td>\n",
       "    </tr>\n",
       "    <tr>\n",
       "      <th>59</th>\n",
       "      <td>3acaa3b86</td>\n",
       "      <td>स्टेगेरिया</td>\n",
       "      <td>स्टेगेरिया</td>\n",
       "      <td>1.00</td>\n",
       "    </tr>\n",
       "    <tr>\n",
       "      <th>60</th>\n",
       "      <td>7a3e4bf22</td>\n",
       "      <td>கி.மு 3000</td>\n",
       "      <td>கி.மு 3000 க்கும் கி.மு 2500</td>\n",
       "      <td>0.50</td>\n",
       "    </tr>\n",
       "    <tr>\n",
       "      <th>61</th>\n",
       "      <td>de34ee0a0</td>\n",
       "      <td>माइकोलैव ब्लैक ‍सी शिपयार्ड</td>\n",
       "      <td>यूक्रेन</td>\n",
       "      <td>0.00</td>\n",
       "    </tr>\n",
       "    <tr>\n",
       "      <th>62</th>\n",
       "      <td>518fc3aaf</td>\n",
       "      <td>तेरह</td>\n",
       "      <td>तेरह</td>\n",
       "      <td>1.00</td>\n",
       "    </tr>\n",
       "    <tr>\n",
       "      <th>63</th>\n",
       "      <td>632812604</td>\n",
       "      <td>न्युयॉर्क</td>\n",
       "      <td>न्युयॉर्क</td>\n",
       "      <td>1.00</td>\n",
       "    </tr>\n",
       "  </tbody>\n",
       "</table>\n",
       "<p>64 rows × 4 columns</p>\n",
       "</div>"
      ],
      "text/plain": [
       "           id                       answer                     prediction  \\\n",
       "0   dc64d02cf                प्रतिभा पाटील                  प्रतिभा पाटील   \n",
       "1   98d8542f6                       பிங்க்                         வெள்ளை   \n",
       "2   3ce81e663  मिर्ज़ा असद-उल्लाह बेग ख़ां            असद-उल्लाह बेग ख़ां   \n",
       "3   40f4e32da          मीटर प्रति सेकेण्ड2            मीटर प्रति सेकेण्ड2   \n",
       "4   bfa4380bd                       अगरतला                         अगरतला   \n",
       "..        ...                          ...                            ...   \n",
       "59  3acaa3b86                   स्टेगेरिया                     स्टेगेरिया   \n",
       "60  7a3e4bf22                   கி.மு 3000   கி.மு 3000 க்கும் கி.மு 2500   \n",
       "61  de34ee0a0  माइकोलैव ब्लैक ‍सी शिपयार्ड                        यूक्रेन   \n",
       "62  518fc3aaf                         तेरह                           तेरह   \n",
       "63  632812604                    न्युयॉर्क                      न्युयॉर्क   \n",
       "\n",
       "    jaccard  \n",
       "0      1.00  \n",
       "1      0.00  \n",
       "2      0.75  \n",
       "3      1.00  \n",
       "4      1.00  \n",
       "..      ...  \n",
       "59     1.00  \n",
       "60     0.50  \n",
       "61     0.00  \n",
       "62     1.00  \n",
       "63     1.00  \n",
       "\n",
       "[64 rows x 4 columns]"
      ]
     },
     "execution_count": 38,
     "metadata": {},
     "output_type": "execute_result"
    }
   ],
   "source": [
    "res = pd.DataFrame(references)\n",
    "res['prediction'] = res['id'].apply(lambda r: final_predictions[r])\n",
    "res['jaccard'] = res[['answer', 'prediction']].apply(jaccard, axis=1)\n",
    "res"
   ]
  },
  {
   "cell_type": "code",
   "execution_count": 39,
   "id": "b420b327",
   "metadata": {
    "execution": {
     "iopub.execute_input": "2021-09-06T20:11:31.506020Z",
     "iopub.status.busy": "2021-09-06T20:11:31.505525Z",
     "iopub.status.idle": "2021-09-06T20:11:31.510706Z",
     "shell.execute_reply": "2021-09-06T20:11:31.511079Z",
     "shell.execute_reply.started": "2021-09-06T19:22:45.252957Z"
    },
    "papermill": {
     "duration": 0.056404,
     "end_time": "2021-09-06T20:11:31.511224",
     "exception": false,
     "start_time": "2021-09-06T20:11:31.454820",
     "status": "completed"
    },
    "tags": []
   },
   "outputs": [
    {
     "data": {
      "text/plain": [
       "0.61640625"
      ]
     },
     "execution_count": 39,
     "metadata": {},
     "output_type": "execute_result"
    }
   ],
   "source": [
    "res.jaccard.mean()"
   ]
  },
  {
   "cell_type": "code",
   "execution_count": 40,
   "id": "744327f9",
   "metadata": {
    "execution": {
     "iopub.execute_input": "2021-09-06T20:11:31.611477Z",
     "iopub.status.busy": "2021-09-06T20:11:31.610769Z",
     "iopub.status.idle": "2021-09-06T20:11:31.613958Z",
     "shell.execute_reply": "2021-09-06T20:11:31.614394Z",
     "shell.execute_reply.started": "2021-09-06T19:23:41.604114Z"
    },
    "papermill": {
     "duration": 0.056231,
     "end_time": "2021-09-06T20:11:31.614539",
     "exception": false,
     "start_time": "2021-09-06T20:11:31.558308",
     "status": "completed"
    },
    "tags": []
   },
   "outputs": [
    {
     "data": {
      "text/plain": [
       "5"
      ]
     },
     "execution_count": 40,
     "metadata": {},
     "output_type": "execute_result"
    }
   ],
   "source": [
    "len(test)"
   ]
  },
  {
   "cell_type": "code",
   "execution_count": 41,
   "id": "f1c8e746",
   "metadata": {
    "execution": {
     "iopub.execute_input": "2021-09-06T20:11:31.717565Z",
     "iopub.status.busy": "2021-09-06T20:11:31.716652Z",
     "iopub.status.idle": "2021-09-06T20:11:31.721778Z",
     "shell.execute_reply": "2021-09-06T20:11:31.722172Z",
     "shell.execute_reply.started": "2021-09-06T19:23:49.246878Z"
    },
    "papermill": {
     "duration": 0.059207,
     "end_time": "2021-09-06T20:11:31.722314",
     "exception": false,
     "start_time": "2021-09-06T20:11:31.663107",
     "status": "completed"
    },
    "tags": []
   },
   "outputs": [],
   "source": [
    "test_dataset = Dataset.from_pandas(test)"
   ]
  },
  {
   "cell_type": "code",
   "execution_count": 42,
   "id": "7bbdae5d",
   "metadata": {
    "execution": {
     "iopub.execute_input": "2021-09-06T20:11:31.859116Z",
     "iopub.status.busy": "2021-09-06T20:11:31.858251Z",
     "iopub.status.idle": "2021-09-06T20:11:32.245880Z",
     "shell.execute_reply": "2021-09-06T20:11:32.245455Z",
     "shell.execute_reply.started": "2021-09-06T19:24:09.234971Z"
    },
    "papermill": {
     "duration": 0.476275,
     "end_time": "2021-09-06T20:11:32.246001",
     "exception": false,
     "start_time": "2021-09-06T20:11:31.769726",
     "status": "completed"
    },
    "tags": []
   },
   "outputs": [
    {
     "data": {
      "application/vnd.jupyter.widget-view+json": {
       "model_id": "27163af517b34a3d8336f26455ac2401",
       "version_major": 2,
       "version_minor": 0
      },
      "text/plain": [
       "HBox(children=(FloatProgress(value=0.0, max=1.0), HTML(value='')))"
      ]
     },
     "metadata": {},
     "output_type": "display_data"
    },
    {
     "name": "stdout",
     "output_type": "stream",
     "text": [
      "\n"
     ]
    }
   ],
   "source": [
    "test_features = test_dataset.map(\n",
    "    prepare_validation_features,\n",
    "    batched=True,\n",
    "    remove_columns=test_dataset.column_names\n",
    ")"
   ]
  },
  {
   "cell_type": "code",
   "execution_count": 43,
   "id": "15e951b7",
   "metadata": {
    "execution": {
     "iopub.execute_input": "2021-09-06T20:11:32.354994Z",
     "iopub.status.busy": "2021-09-06T20:11:32.353893Z",
     "iopub.status.idle": "2021-09-06T20:11:32.503503Z",
     "shell.execute_reply": "2021-09-06T20:11:32.503911Z",
     "shell.execute_reply.started": "2021-09-06T19:24:13.558783Z"
    },
    "papermill": {
     "duration": 0.209193,
     "end_time": "2021-09-06T20:11:32.504051",
     "exception": false,
     "start_time": "2021-09-06T20:11:32.294858",
     "status": "completed"
    },
    "tags": []
   },
   "outputs": [
    {
     "data": {
      "application/vnd.jupyter.widget-view+json": {
       "model_id": "a6164eb5f47f4b1caa1d66f5560061fc",
       "version_major": 2,
       "version_minor": 0
      },
      "text/plain": [
       "HBox(children=(FloatProgress(value=0.0, max=67.0), HTML(value='')))"
      ]
     },
     "metadata": {},
     "output_type": "display_data"
    },
    {
     "name": "stdout",
     "output_type": "stream",
     "text": [
      "\n"
     ]
    },
    {
     "data": {
      "text/plain": [
       "Dataset({\n",
       "    features: ['attention_mask', 'input_ids'],\n",
       "    num_rows: 67\n",
       "})"
      ]
     },
     "execution_count": 43,
     "metadata": {},
     "output_type": "execute_result"
    }
   ],
   "source": [
    "test_feats_small = test_features.map(lambda example: example, remove_columns=['example_id', 'offset_mapping'])\n",
    "test_feats_small"
   ]
  },
  {
   "cell_type": "code",
   "execution_count": 44,
   "id": "1e9adec5",
   "metadata": {
    "execution": {
     "iopub.execute_input": "2021-09-06T20:11:32.782582Z",
     "iopub.status.busy": "2021-09-06T20:11:32.781930Z",
     "iopub.status.idle": "2021-09-06T20:11:34.046940Z",
     "shell.execute_reply": "2021-09-06T20:11:34.046483Z",
     "shell.execute_reply.started": "2021-09-06T19:24:27.124042Z"
    },
    "papermill": {
     "duration": 1.492033,
     "end_time": "2021-09-06T20:11:34.047064",
     "exception": false,
     "start_time": "2021-09-06T20:11:32.555031",
     "status": "completed"
    },
    "tags": []
   },
   "outputs": [],
   "source": [
    "test_predictions = trainer.predict(test_feats_small)"
   ]
  },
  {
   "cell_type": "code",
   "execution_count": 45,
   "id": "2d6fe4bc",
   "metadata": {
    "execution": {
     "iopub.execute_input": "2021-09-06T20:11:34.151622Z",
     "iopub.status.busy": "2021-09-06T20:11:34.151007Z",
     "iopub.status.idle": "2021-09-06T20:11:34.155098Z",
     "shell.execute_reply": "2021-09-06T20:11:34.154675Z",
     "shell.execute_reply.started": "2021-09-06T19:24:35.542080Z"
    },
    "papermill": {
     "duration": 0.058596,
     "end_time": "2021-09-06T20:11:34.155233",
     "exception": false,
     "start_time": "2021-09-06T20:11:34.096637",
     "status": "completed"
    },
    "tags": []
   },
   "outputs": [],
   "source": [
    "test_features.set_format(type=test_features.format[\"type\"], columns=list(test_features.features.keys()))"
   ]
  },
  {
   "cell_type": "code",
   "execution_count": 46,
   "id": "6252f9f2",
   "metadata": {
    "execution": {
     "iopub.execute_input": "2021-09-06T20:11:34.383960Z",
     "iopub.status.busy": "2021-09-06T20:11:34.383119Z",
     "iopub.status.idle": "2021-09-06T20:11:34.632985Z",
     "shell.execute_reply": "2021-09-06T20:11:34.632374Z",
     "shell.execute_reply.started": "2021-09-06T19:24:39.912957Z"
    },
    "papermill": {
     "duration": 0.428287,
     "end_time": "2021-09-06T20:11:34.633144",
     "exception": false,
     "start_time": "2021-09-06T20:11:34.204857",
     "status": "completed"
    },
    "tags": []
   },
   "outputs": [
    {
     "name": "stdout",
     "output_type": "stream",
     "text": [
      "Post-processing 5 example predictions split into 67 features.\n"
     ]
    },
    {
     "data": {
      "application/vnd.jupyter.widget-view+json": {
       "model_id": "53cd6288f0754bb3b27ec96c0ede3407",
       "version_major": 2,
       "version_minor": 0
      },
      "text/plain": [
       "HBox(children=(FloatProgress(value=0.0, max=5.0), HTML(value='')))"
      ]
     },
     "metadata": {},
     "output_type": "display_data"
    },
    {
     "name": "stdout",
     "output_type": "stream",
     "text": [
      "\n"
     ]
    }
   ],
   "source": [
    "final_test_predictions = postprocess_qa_predictions(test_dataset, test_features, test_predictions.predictions)"
   ]
  },
  {
   "cell_type": "code",
   "execution_count": 47,
   "id": "662d1bb5",
   "metadata": {
    "execution": {
     "iopub.execute_input": "2021-09-06T20:11:34.738008Z",
     "iopub.status.busy": "2021-09-06T20:11:34.737487Z",
     "iopub.status.idle": "2021-09-06T20:11:34.746804Z",
     "shell.execute_reply": "2021-09-06T20:11:34.746397Z",
     "shell.execute_reply.started": "2021-09-06T19:24:45.903123Z"
    },
    "papermill": {
     "duration": 0.062184,
     "end_time": "2021-09-06T20:11:34.746914",
     "exception": false,
     "start_time": "2021-09-06T20:11:34.684730",
     "status": "completed"
    },
    "tags": []
   },
   "outputs": [],
   "source": [
    "sub = pd.read_csv('../input/chaii-hindi-and-tamil-question-answering/sample_submission.csv')"
   ]
  },
  {
   "cell_type": "code",
   "execution_count": 48,
   "id": "a44d96c1",
   "metadata": {
    "execution": {
     "iopub.execute_input": "2021-09-06T20:11:34.858179Z",
     "iopub.status.busy": "2021-09-06T20:11:34.857687Z",
     "iopub.status.idle": "2021-09-06T20:11:34.862724Z",
     "shell.execute_reply": "2021-09-06T20:11:34.862295Z",
     "shell.execute_reply.started": "2021-09-06T19:25:12.571170Z"
    },
    "papermill": {
     "duration": 0.06399,
     "end_time": "2021-09-06T20:11:34.862831",
     "exception": false,
     "start_time": "2021-09-06T20:11:34.798841",
     "status": "completed"
    },
    "tags": []
   },
   "outputs": [
    {
     "data": {
      "text/html": [
       "<div>\n",
       "<style scoped>\n",
       "    .dataframe tbody tr th:only-of-type {\n",
       "        vertical-align: middle;\n",
       "    }\n",
       "\n",
       "    .dataframe tbody tr th {\n",
       "        vertical-align: top;\n",
       "    }\n",
       "\n",
       "    .dataframe thead th {\n",
       "        text-align: right;\n",
       "    }\n",
       "</style>\n",
       "<table border=\"1\" class=\"dataframe\">\n",
       "  <thead>\n",
       "    <tr style=\"text-align: right;\">\n",
       "      <th></th>\n",
       "      <th>id</th>\n",
       "      <th>PredictionString</th>\n",
       "    </tr>\n",
       "  </thead>\n",
       "  <tbody>\n",
       "    <tr>\n",
       "      <th>0</th>\n",
       "      <td>22bff3dec</td>\n",
       "      <td>येलन चीन</td>\n",
       "    </tr>\n",
       "    <tr>\n",
       "      <th>1</th>\n",
       "      <td>282758170</td>\n",
       "      <td>28 नवम्बर 2007</td>\n",
       "    </tr>\n",
       "    <tr>\n",
       "      <th>2</th>\n",
       "      <td>d60987e0e</td>\n",
       "      <td>१२ मार्च १८२४ - १७ अक्टूबर १८८७</td>\n",
       "    </tr>\n",
       "    <tr>\n",
       "      <th>3</th>\n",
       "      <td>f99c770dc</td>\n",
       "      <td>13</td>\n",
       "    </tr>\n",
       "    <tr>\n",
       "      <th>4</th>\n",
       "      <td>40dec1964</td>\n",
       "      <td>ரோச்டேல் பயனீர்</td>\n",
       "    </tr>\n",
       "  </tbody>\n",
       "</table>\n",
       "</div>"
      ],
      "text/plain": [
       "          id                 PredictionString\n",
       "0  22bff3dec                         येलन चीन\n",
       "1  282758170                   28 नवम्बर 2007\n",
       "2  d60987e0e  १२ मार्च १८२४ - १७ अक्टूबर १८८७\n",
       "3  f99c770dc                               13\n",
       "4  40dec1964                  ரோச்டேல் பயனீர்"
      ]
     },
     "execution_count": 48,
     "metadata": {},
     "output_type": "execute_result"
    }
   ],
   "source": [
    "sub['PredictionString'] = sub['id'].apply(lambda r: final_test_predictions[r])\n",
    "sub.head()"
   ]
  },
  {
   "cell_type": "code",
   "execution_count": 49,
   "id": "81579172",
   "metadata": {
    "execution": {
     "iopub.execute_input": "2021-09-06T20:11:34.967181Z",
     "iopub.status.busy": "2021-09-06T20:11:34.966658Z",
     "iopub.status.idle": "2021-09-06T20:11:34.973625Z",
     "shell.execute_reply": "2021-09-06T20:11:34.973165Z",
     "shell.execute_reply.started": "2021-09-06T19:26:15.705515Z"
    },
    "papermill": {
     "duration": 0.060597,
     "end_time": "2021-09-06T20:11:34.973738",
     "exception": false,
     "start_time": "2021-09-06T20:11:34.913141",
     "status": "completed"
    },
    "tags": []
   },
   "outputs": [],
   "source": [
    "sub.to_csv('submission.csv', index=False)\n"
   ]
  }
 ],
 "metadata": {
  "kernelspec": {
   "display_name": "Python 3",
   "language": "python",
   "name": "python3"
  },
  "language_info": {
   "codemirror_mode": {
    "name": "ipython",
    "version": 3
   },
   "file_extension": ".py",
   "mimetype": "text/x-python",
   "name": "python",
   "nbconvert_exporter": "python",
   "pygments_lexer": "ipython3",
   "version": "3.7.10"
  },
  "papermill": {
   "default_parameters": {},
   "duration": 1080.01561,
   "end_time": "2021-09-06T20:11:38.141918",
   "environment_variables": {},
   "exception": null,
   "input_path": "__notebook__.ipynb",
   "output_path": "__notebook__.ipynb",
   "parameters": {},
   "start_time": "2021-09-06T19:53:38.126308",
   "version": "2.3.3"
  },
  "widgets": {
   "application/vnd.jupyter.widget-state+json": {
    "state": {
     "0047b3c96c0a4af69ae8d9732d8e3411": {
      "model_module": "@jupyter-widgets/controls",
      "model_module_version": "1.5.0",
      "model_name": "DescriptionStyleModel",
      "state": {
       "_model_module": "@jupyter-widgets/controls",
       "_model_module_version": "1.5.0",
       "_model_name": "DescriptionStyleModel",
       "_view_count": null,
       "_view_module": "@jupyter-widgets/base",
       "_view_module_version": "1.2.0",
       "_view_name": "StyleView",
       "description_width": ""
      }
     },
     "035829cb4b6a43caa86f87b0b82ca766": {
      "model_module": "@jupyter-widgets/controls",
      "model_module_version": "1.5.0",
      "model_name": "HTMLModel",
      "state": {
       "_dom_classes": [],
       "_model_module": "@jupyter-widgets/controls",
       "_model_module_version": "1.5.0",
       "_model_name": "HTMLModel",
       "_view_count": null,
       "_view_module": "@jupyter-widgets/controls",
       "_view_module_version": "1.5.0",
       "_view_name": "HTMLView",
       "description": "",
       "description_tooltip": null,
       "layout": "IPY_MODEL_9332fce4d1a84db8bf8d1218375785ff",
       "placeholder": "​",
       "style": "IPY_MODEL_34f5e3cb8c7f425c94f1c09a724faa39",
       "value": "&lt;tqdm.auto.tqdm object at 0x7fa3e86acf10&gt;"
      }
     },
     "0666463b457b43a289c68f9d2fb31bf8": {
      "model_module": "@jupyter-widgets/base",
      "model_module_version": "1.2.0",
      "model_name": "LayoutModel",
      "state": {
       "_model_module": "@jupyter-widgets/base",
       "_model_module_version": "1.2.0",
       "_model_name": "LayoutModel",
       "_view_count": null,
       "_view_module": "@jupyter-widgets/base",
       "_view_module_version": "1.2.0",
       "_view_name": "LayoutView",
       "align_content": null,
       "align_items": null,
       "align_self": null,
       "border": null,
       "bottom": null,
       "display": null,
       "flex": null,
       "flex_flow": null,
       "grid_area": null,
       "grid_auto_columns": null,
       "grid_auto_flow": null,
       "grid_auto_rows": null,
       "grid_column": null,
       "grid_gap": null,
       "grid_row": null,
       "grid_template_areas": null,
       "grid_template_columns": null,
       "grid_template_rows": null,
       "height": null,
       "justify_content": null,
       "justify_items": null,
       "left": null,
       "margin": null,
       "max_height": null,
       "max_width": null,
       "min_height": null,
       "min_width": null,
       "object_fit": null,
       "object_position": null,
       "order": null,
       "overflow": null,
       "overflow_x": null,
       "overflow_y": null,
       "padding": null,
       "right": null,
       "top": null,
       "visibility": null,
       "width": null
      }
     },
     "09e546d1419d4083bc9a9e2ec15917b3": {
      "model_module": "@jupyter-widgets/controls",
      "model_module_version": "1.5.0",
      "model_name": "FloatProgressModel",
      "state": {
       "_dom_classes": [],
       "_model_module": "@jupyter-widgets/controls",
       "_model_module_version": "1.5.0",
       "_model_name": "FloatProgressModel",
       "_view_count": null,
       "_view_module": "@jupyter-widgets/controls",
       "_view_module_version": "1.5.0",
       "_view_name": "ProgressView",
       "bar_style": "success",
       "description": "",
       "description_tooltip": null,
       "layout": "IPY_MODEL_73480b5764c14795922b1de2436c9c6b",
       "max": 2.0,
       "min": 0.0,
       "orientation": "horizontal",
       "style": "IPY_MODEL_c4bc0a29ee5445c7a6a4e7240bf58b57",
       "value": 2.0
      }
     },
     "0d17cccb46bc41fab70132a361567299": {
      "model_module": "@jupyter-widgets/base",
      "model_module_version": "1.2.0",
      "model_name": "LayoutModel",
      "state": {
       "_model_module": "@jupyter-widgets/base",
       "_model_module_version": "1.2.0",
       "_model_name": "LayoutModel",
       "_view_count": null,
       "_view_module": "@jupyter-widgets/base",
       "_view_module_version": "1.2.0",
       "_view_name": "LayoutView",
       "align_content": null,
       "align_items": null,
       "align_self": null,
       "border": null,
       "bottom": null,
       "display": null,
       "flex": null,
       "flex_flow": null,
       "grid_area": null,
       "grid_auto_columns": null,
       "grid_auto_flow": null,
       "grid_auto_rows": null,
       "grid_column": null,
       "grid_gap": null,
       "grid_row": null,
       "grid_template_areas": null,
       "grid_template_columns": null,
       "grid_template_rows": null,
       "height": null,
       "justify_content": null,
       "justify_items": null,
       "left": null,
       "margin": null,
       "max_height": null,
       "max_width": null,
       "min_height": null,
       "min_width": null,
       "object_fit": null,
       "object_position": null,
       "order": null,
       "overflow": null,
       "overflow_x": null,
       "overflow_y": null,
       "padding": null,
       "right": null,
       "top": null,
       "visibility": null,
       "width": null
      }
     },
     "0db1ec223e2b46babdfa3b2709b517c2": {
      "model_module": "@jupyter-widgets/controls",
      "model_module_version": "1.5.0",
      "model_name": "ProgressStyleModel",
      "state": {
       "_model_module": "@jupyter-widgets/controls",
       "_model_module_version": "1.5.0",
       "_model_name": "ProgressStyleModel",
       "_view_count": null,
       "_view_module": "@jupyter-widgets/base",
       "_view_module_version": "1.2.0",
       "_view_name": "StyleView",
       "bar_color": null,
       "description_width": "initial"
      }
     },
     "0e269f1a4cf9426c85d76bbd21d372d3": {
      "model_module": "@jupyter-widgets/base",
      "model_module_version": "1.2.0",
      "model_name": "LayoutModel",
      "state": {
       "_model_module": "@jupyter-widgets/base",
       "_model_module_version": "1.2.0",
       "_model_name": "LayoutModel",
       "_view_count": null,
       "_view_module": "@jupyter-widgets/base",
       "_view_module_version": "1.2.0",
       "_view_name": "LayoutView",
       "align_content": null,
       "align_items": null,
       "align_self": null,
       "border": null,
       "bottom": null,
       "display": null,
       "flex": null,
       "flex_flow": null,
       "grid_area": null,
       "grid_auto_columns": null,
       "grid_auto_flow": null,
       "grid_auto_rows": null,
       "grid_column": null,
       "grid_gap": null,
       "grid_row": null,
       "grid_template_areas": null,
       "grid_template_columns": null,
       "grid_template_rows": null,
       "height": null,
       "justify_content": null,
       "justify_items": null,
       "left": null,
       "margin": null,
       "max_height": null,
       "max_width": null,
       "min_height": null,
       "min_width": null,
       "object_fit": null,
       "object_position": null,
       "order": null,
       "overflow": null,
       "overflow_x": null,
       "overflow_y": null,
       "padding": null,
       "right": null,
       "top": null,
       "visibility": null,
       "width": null
      }
     },
     "20a0dfeeab4b4e03b9928d521742df11": {
      "model_module": "@jupyter-widgets/controls",
      "model_module_version": "1.5.0",
      "model_name": "HTMLModel",
      "state": {
       "_dom_classes": [],
       "_model_module": "@jupyter-widgets/controls",
       "_model_module_version": "1.5.0",
       "_model_name": "HTMLModel",
       "_view_count": null,
       "_view_module": "@jupyter-widgets/controls",
       "_view_module_version": "1.5.0",
       "_view_name": "HTMLView",
       "description": "",
       "description_tooltip": null,
       "layout": "IPY_MODEL_dc657b7ff1824c2ea1941b69d742394e",
       "placeholder": "​",
       "style": "IPY_MODEL_563da561c1ce4c209aaeb22ef82a63a3",
       "value": "&lt;tqdm.auto.tqdm object at 0x7fa3c7a320d0&gt;"
      }
     },
     "247a373b329d4b4a80a27bf9ab717b3d": {
      "model_module": "@jupyter-widgets/controls",
      "model_module_version": "1.5.0",
      "model_name": "ProgressStyleModel",
      "state": {
       "_model_module": "@jupyter-widgets/controls",
       "_model_module_version": "1.5.0",
       "_model_name": "ProgressStyleModel",
       "_view_count": null,
       "_view_module": "@jupyter-widgets/base",
       "_view_module_version": "1.2.0",
       "_view_name": "StyleView",
       "bar_color": null,
       "description_width": "initial"
      }
     },
     "26d6be6ec6f148d7a6a9d0c229ff470d": {
      "model_module": "@jupyter-widgets/base",
      "model_module_version": "1.2.0",
      "model_name": "LayoutModel",
      "state": {
       "_model_module": "@jupyter-widgets/base",
       "_model_module_version": "1.2.0",
       "_model_name": "LayoutModel",
       "_view_count": null,
       "_view_module": "@jupyter-widgets/base",
       "_view_module_version": "1.2.0",
       "_view_name": "LayoutView",
       "align_content": null,
       "align_items": null,
       "align_self": null,
       "border": null,
       "bottom": null,
       "display": null,
       "flex": null,
       "flex_flow": null,
       "grid_area": null,
       "grid_auto_columns": null,
       "grid_auto_flow": null,
       "grid_auto_rows": null,
       "grid_column": null,
       "grid_gap": null,
       "grid_row": null,
       "grid_template_areas": null,
       "grid_template_columns": null,
       "grid_template_rows": null,
       "height": null,
       "justify_content": null,
       "justify_items": null,
       "left": null,
       "margin": null,
       "max_height": null,
       "max_width": null,
       "min_height": null,
       "min_width": null,
       "object_fit": null,
       "object_position": null,
       "order": null,
       "overflow": null,
       "overflow_x": null,
       "overflow_y": null,
       "padding": null,
       "right": null,
       "top": null,
       "visibility": null,
       "width": null
      }
     },
     "27163af517b34a3d8336f26455ac2401": {
      "model_module": "@jupyter-widgets/controls",
      "model_module_version": "1.5.0",
      "model_name": "HBoxModel",
      "state": {
       "_dom_classes": [],
       "_model_module": "@jupyter-widgets/controls",
       "_model_module_version": "1.5.0",
       "_model_name": "HBoxModel",
       "_view_count": null,
       "_view_module": "@jupyter-widgets/controls",
       "_view_module_version": "1.5.0",
       "_view_name": "HBoxView",
       "box_style": "",
       "children": [
        "IPY_MODEL_70c237b29d3a4b07b1d9d359d02b59ed",
        "IPY_MODEL_e6a3d84fac714839bd08ab9124d6b45e"
       ],
       "layout": "IPY_MODEL_26d6be6ec6f148d7a6a9d0c229ff470d"
      }
     },
     "28d6e8383604432f8eac5127ebcdeb56": {
      "model_module": "@jupyter-widgets/controls",
      "model_module_version": "1.5.0",
      "model_name": "FloatProgressModel",
      "state": {
       "_dom_classes": [],
       "_model_module": "@jupyter-widgets/controls",
       "_model_module_version": "1.5.0",
       "_model_name": "FloatProgressModel",
       "_view_count": null,
       "_view_module": "@jupyter-widgets/controls",
       "_view_module_version": "1.5.0",
       "_view_name": "ProgressView",
       "bar_style": "success",
       "description": "",
       "description_tooltip": null,
       "layout": "IPY_MODEL_738150b3f8cb45488ab38df6baa3d905",
       "max": 1.0,
       "min": 0.0,
       "orientation": "horizontal",
       "style": "IPY_MODEL_ef4e9324691f4c528369e719f60f1ff3",
       "value": 1.0
      }
     },
     "294116137d66498fa1f77176529ac425": {
      "model_module": "@jupyter-widgets/controls",
      "model_module_version": "1.5.0",
      "model_name": "HBoxModel",
      "state": {
       "_dom_classes": [],
       "_model_module": "@jupyter-widgets/controls",
       "_model_module_version": "1.5.0",
       "_model_name": "HBoxModel",
       "_view_count": null,
       "_view_module": "@jupyter-widgets/controls",
       "_view_module_version": "1.5.0",
       "_view_name": "HBoxView",
       "box_style": "",
       "children": [
        "IPY_MODEL_28d6e8383604432f8eac5127ebcdeb56",
        "IPY_MODEL_d5be3900f50640d5ba8d092453464ece"
       ],
       "layout": "IPY_MODEL_ac5d0fe35d16484a8b12c55b24c03bc9"
      }
     },
     "2c47cfd1e80244a5bbd230a0f6bd5e48": {
      "model_module": "@jupyter-widgets/controls",
      "model_module_version": "1.5.0",
      "model_name": "HBoxModel",
      "state": {
       "_dom_classes": [],
       "_model_module": "@jupyter-widgets/controls",
       "_model_module_version": "1.5.0",
       "_model_name": "HBoxModel",
       "_view_count": null,
       "_view_module": "@jupyter-widgets/controls",
       "_view_module_version": "1.5.0",
       "_view_name": "HBoxView",
       "box_style": "",
       "children": [
        "IPY_MODEL_8c9adf037a2049ff86a91d54057b8a35",
        "IPY_MODEL_57b19e2fb5ac48a8a586ebe519caae56"
       ],
       "layout": "IPY_MODEL_4481851d4551478baa9057b098c6fc97"
      }
     },
     "2f41b385a74440f6b069d13f7298faaf": {
      "model_module": "@jupyter-widgets/controls",
      "model_module_version": "1.5.0",
      "model_name": "HTMLModel",
      "state": {
       "_dom_classes": [],
       "_model_module": "@jupyter-widgets/controls",
       "_model_module_version": "1.5.0",
       "_model_name": "HTMLModel",
       "_view_count": null,
       "_view_module": "@jupyter-widgets/controls",
       "_view_module_version": "1.5.0",
       "_view_name": "HTMLView",
       "description": "",
       "description_tooltip": null,
       "layout": "IPY_MODEL_4a9a5629c5444baa8ff1fcb770e43e6c",
       "placeholder": "​",
       "style": "IPY_MODEL_5f567a70351e4e0b988d83a7091131df",
       "value": "&lt;tqdm.auto.tqdm object at 0x7fa3e96a0d50&gt;"
      }
     },
     "34f5e3cb8c7f425c94f1c09a724faa39": {
      "model_module": "@jupyter-widgets/controls",
      "model_module_version": "1.5.0",
      "model_name": "DescriptionStyleModel",
      "state": {
       "_model_module": "@jupyter-widgets/controls",
       "_model_module_version": "1.5.0",
       "_model_name": "DescriptionStyleModel",
       "_view_count": null,
       "_view_module": "@jupyter-widgets/base",
       "_view_module_version": "1.2.0",
       "_view_name": "StyleView",
       "description_width": ""
      }
     },
     "3ca4f4f710c94697b7585a053c8cd62e": {
      "model_module": "@jupyter-widgets/base",
      "model_module_version": "1.2.0",
      "model_name": "LayoutModel",
      "state": {
       "_model_module": "@jupyter-widgets/base",
       "_model_module_version": "1.2.0",
       "_model_name": "LayoutModel",
       "_view_count": null,
       "_view_module": "@jupyter-widgets/base",
       "_view_module_version": "1.2.0",
       "_view_name": "LayoutView",
       "align_content": null,
       "align_items": null,
       "align_self": null,
       "border": null,
       "bottom": null,
       "display": null,
       "flex": null,
       "flex_flow": null,
       "grid_area": null,
       "grid_auto_columns": null,
       "grid_auto_flow": null,
       "grid_auto_rows": null,
       "grid_column": null,
       "grid_gap": null,
       "grid_row": null,
       "grid_template_areas": null,
       "grid_template_columns": null,
       "grid_template_rows": null,
       "height": null,
       "justify_content": null,
       "justify_items": null,
       "left": null,
       "margin": null,
       "max_height": null,
       "max_width": null,
       "min_height": null,
       "min_width": null,
       "object_fit": null,
       "object_position": null,
       "order": null,
       "overflow": null,
       "overflow_x": null,
       "overflow_y": null,
       "padding": null,
       "right": null,
       "top": null,
       "visibility": null,
       "width": null
      }
     },
     "4481851d4551478baa9057b098c6fc97": {
      "model_module": "@jupyter-widgets/base",
      "model_module_version": "1.2.0",
      "model_name": "LayoutModel",
      "state": {
       "_model_module": "@jupyter-widgets/base",
       "_model_module_version": "1.2.0",
       "_model_name": "LayoutModel",
       "_view_count": null,
       "_view_module": "@jupyter-widgets/base",
       "_view_module_version": "1.2.0",
       "_view_name": "LayoutView",
       "align_content": null,
       "align_items": null,
       "align_self": null,
       "border": null,
       "bottom": null,
       "display": null,
       "flex": null,
       "flex_flow": null,
       "grid_area": null,
       "grid_auto_columns": null,
       "grid_auto_flow": null,
       "grid_auto_rows": null,
       "grid_column": null,
       "grid_gap": null,
       "grid_row": null,
       "grid_template_areas": null,
       "grid_template_columns": null,
       "grid_template_rows": null,
       "height": null,
       "justify_content": null,
       "justify_items": null,
       "left": null,
       "margin": null,
       "max_height": null,
       "max_width": null,
       "min_height": null,
       "min_width": null,
       "object_fit": null,
       "object_position": null,
       "order": null,
       "overflow": null,
       "overflow_x": null,
       "overflow_y": null,
       "padding": null,
       "right": null,
       "top": null,
       "visibility": null,
       "width": null
      }
     },
     "4660608b0e4649cd89c7adbe95fd235d": {
      "model_module": "@jupyter-widgets/base",
      "model_module_version": "1.2.0",
      "model_name": "LayoutModel",
      "state": {
       "_model_module": "@jupyter-widgets/base",
       "_model_module_version": "1.2.0",
       "_model_name": "LayoutModel",
       "_view_count": null,
       "_view_module": "@jupyter-widgets/base",
       "_view_module_version": "1.2.0",
       "_view_name": "LayoutView",
       "align_content": null,
       "align_items": null,
       "align_self": null,
       "border": null,
       "bottom": null,
       "display": null,
       "flex": null,
       "flex_flow": null,
       "grid_area": null,
       "grid_auto_columns": null,
       "grid_auto_flow": null,
       "grid_auto_rows": null,
       "grid_column": null,
       "grid_gap": null,
       "grid_row": null,
       "grid_template_areas": null,
       "grid_template_columns": null,
       "grid_template_rows": null,
       "height": null,
       "justify_content": null,
       "justify_items": null,
       "left": null,
       "margin": null,
       "max_height": null,
       "max_width": null,
       "min_height": null,
       "min_width": null,
       "object_fit": null,
       "object_position": null,
       "order": null,
       "overflow": null,
       "overflow_x": null,
       "overflow_y": null,
       "padding": null,
       "right": null,
       "top": null,
       "visibility": null,
       "width": null
      }
     },
     "4a9a5629c5444baa8ff1fcb770e43e6c": {
      "model_module": "@jupyter-widgets/base",
      "model_module_version": "1.2.0",
      "model_name": "LayoutModel",
      "state": {
       "_model_module": "@jupyter-widgets/base",
       "_model_module_version": "1.2.0",
       "_model_name": "LayoutModel",
       "_view_count": null,
       "_view_module": "@jupyter-widgets/base",
       "_view_module_version": "1.2.0",
       "_view_name": "LayoutView",
       "align_content": null,
       "align_items": null,
       "align_self": null,
       "border": null,
       "bottom": null,
       "display": null,
       "flex": null,
       "flex_flow": null,
       "grid_area": null,
       "grid_auto_columns": null,
       "grid_auto_flow": null,
       "grid_auto_rows": null,
       "grid_column": null,
       "grid_gap": null,
       "grid_row": null,
       "grid_template_areas": null,
       "grid_template_columns": null,
       "grid_template_rows": null,
       "height": null,
       "justify_content": null,
       "justify_items": null,
       "left": null,
       "margin": null,
       "max_height": null,
       "max_width": null,
       "min_height": null,
       "min_width": null,
       "object_fit": null,
       "object_position": null,
       "order": null,
       "overflow": null,
       "overflow_x": null,
       "overflow_y": null,
       "padding": null,
       "right": null,
       "top": null,
       "visibility": null,
       "width": null
      }
     },
     "4b7d25d790eb4ee6afcb21455ca36b02": {
      "model_module": "@jupyter-widgets/base",
      "model_module_version": "1.2.0",
      "model_name": "LayoutModel",
      "state": {
       "_model_module": "@jupyter-widgets/base",
       "_model_module_version": "1.2.0",
       "_model_name": "LayoutModel",
       "_view_count": null,
       "_view_module": "@jupyter-widgets/base",
       "_view_module_version": "1.2.0",
       "_view_name": "LayoutView",
       "align_content": null,
       "align_items": null,
       "align_self": null,
       "border": null,
       "bottom": null,
       "display": null,
       "flex": null,
       "flex_flow": null,
       "grid_area": null,
       "grid_auto_columns": null,
       "grid_auto_flow": null,
       "grid_auto_rows": null,
       "grid_column": null,
       "grid_gap": null,
       "grid_row": null,
       "grid_template_areas": null,
       "grid_template_columns": null,
       "grid_template_rows": null,
       "height": null,
       "justify_content": null,
       "justify_items": null,
       "left": null,
       "margin": null,
       "max_height": null,
       "max_width": null,
       "min_height": null,
       "min_width": null,
       "object_fit": null,
       "object_position": null,
       "order": null,
       "overflow": null,
       "overflow_x": null,
       "overflow_y": null,
       "padding": null,
       "right": null,
       "top": null,
       "visibility": null,
       "width": null
      }
     },
     "53cd6288f0754bb3b27ec96c0ede3407": {
      "model_module": "@jupyter-widgets/controls",
      "model_module_version": "1.5.0",
      "model_name": "HBoxModel",
      "state": {
       "_dom_classes": [],
       "_model_module": "@jupyter-widgets/controls",
       "_model_module_version": "1.5.0",
       "_model_name": "HBoxModel",
       "_view_count": null,
       "_view_module": "@jupyter-widgets/controls",
       "_view_module_version": "1.5.0",
       "_view_name": "HBoxView",
       "box_style": "",
       "children": [
        "IPY_MODEL_a2108404c37340628bde54d3eea5989c",
        "IPY_MODEL_20a0dfeeab4b4e03b9928d521742df11"
       ],
       "layout": "IPY_MODEL_724b5a3541b544b38754156713cd18f3"
      }
     },
     "5549d442622f498e8c45c32bf6a3f690": {
      "model_module": "@jupyter-widgets/controls",
      "model_module_version": "1.5.0",
      "model_name": "HTMLModel",
      "state": {
       "_dom_classes": [],
       "_model_module": "@jupyter-widgets/controls",
       "_model_module_version": "1.5.0",
       "_model_name": "HTMLModel",
       "_view_count": null,
       "_view_module": "@jupyter-widgets/controls",
       "_view_module_version": "1.5.0",
       "_view_name": "HTMLView",
       "description": "",
       "description_tooltip": null,
       "layout": "IPY_MODEL_c1c498f03930482e84f12bbb18ac5158",
       "placeholder": "​",
       "style": "IPY_MODEL_7868841c54ff4d40aac331a1bb26608e",
       "value": "&lt;tqdm.auto.tqdm object at 0x7fa3eb023210&gt;"
      }
     },
     "563da561c1ce4c209aaeb22ef82a63a3": {
      "model_module": "@jupyter-widgets/controls",
      "model_module_version": "1.5.0",
      "model_name": "DescriptionStyleModel",
      "state": {
       "_model_module": "@jupyter-widgets/controls",
       "_model_module_version": "1.5.0",
       "_model_name": "DescriptionStyleModel",
       "_view_count": null,
       "_view_module": "@jupyter-widgets/base",
       "_view_module_version": "1.2.0",
       "_view_name": "StyleView",
       "description_width": ""
      }
     },
     "569c7c2ca420482da85acb2f683df95a": {
      "model_module": "@jupyter-widgets/controls",
      "model_module_version": "1.5.0",
      "model_name": "HBoxModel",
      "state": {
       "_dom_classes": [],
       "_model_module": "@jupyter-widgets/controls",
       "_model_module_version": "1.5.0",
       "_model_name": "HBoxModel",
       "_view_count": null,
       "_view_module": "@jupyter-widgets/controls",
       "_view_module_version": "1.5.0",
       "_view_name": "HBoxView",
       "box_style": "",
       "children": [
        "IPY_MODEL_09e546d1419d4083bc9a9e2ec15917b3",
        "IPY_MODEL_5549d442622f498e8c45c32bf6a3f690"
       ],
       "layout": "IPY_MODEL_3ca4f4f710c94697b7585a053c8cd62e"
      }
     },
     "57b19e2fb5ac48a8a586ebe519caae56": {
      "model_module": "@jupyter-widgets/controls",
      "model_module_version": "1.5.0",
      "model_name": "HTMLModel",
      "state": {
       "_dom_classes": [],
       "_model_module": "@jupyter-widgets/controls",
       "_model_module_version": "1.5.0",
       "_model_name": "HTMLModel",
       "_view_count": null,
       "_view_module": "@jupyter-widgets/controls",
       "_view_module_version": "1.5.0",
       "_view_name": "HTMLView",
       "description": "",
       "description_tooltip": null,
       "layout": "IPY_MODEL_863372b2460c4605928404b7cbd84931",
       "placeholder": "​",
       "style": "IPY_MODEL_0047b3c96c0a4af69ae8d9732d8e3411",
       "value": "&lt;tqdm.auto.tqdm object at 0x7fa3e8670650&gt;"
      }
     },
     "5f567a70351e4e0b988d83a7091131df": {
      "model_module": "@jupyter-widgets/controls",
      "model_module_version": "1.5.0",
      "model_name": "DescriptionStyleModel",
      "state": {
       "_model_module": "@jupyter-widgets/controls",
       "_model_module_version": "1.5.0",
       "_model_name": "DescriptionStyleModel",
       "_view_count": null,
       "_view_module": "@jupyter-widgets/base",
       "_view_module_version": "1.2.0",
       "_view_name": "StyleView",
       "description_width": ""
      }
     },
     "60fbddba11a04821855201cbe7340668": {
      "model_module": "@jupyter-widgets/base",
      "model_module_version": "1.2.0",
      "model_name": "LayoutModel",
      "state": {
       "_model_module": "@jupyter-widgets/base",
       "_model_module_version": "1.2.0",
       "_model_name": "LayoutModel",
       "_view_count": null,
       "_view_module": "@jupyter-widgets/base",
       "_view_module_version": "1.2.0",
       "_view_name": "LayoutView",
       "align_content": null,
       "align_items": null,
       "align_self": null,
       "border": null,
       "bottom": null,
       "display": null,
       "flex": null,
       "flex_flow": null,
       "grid_area": null,
       "grid_auto_columns": null,
       "grid_auto_flow": null,
       "grid_auto_rows": null,
       "grid_column": null,
       "grid_gap": null,
       "grid_row": null,
       "grid_template_areas": null,
       "grid_template_columns": null,
       "grid_template_rows": null,
       "height": null,
       "justify_content": null,
       "justify_items": null,
       "left": null,
       "margin": null,
       "max_height": null,
       "max_width": null,
       "min_height": null,
       "min_width": null,
       "object_fit": null,
       "object_position": null,
       "order": null,
       "overflow": null,
       "overflow_x": null,
       "overflow_y": null,
       "padding": null,
       "right": null,
       "top": null,
       "visibility": null,
       "width": null
      }
     },
     "6a86d0e796a3439aa4396f355ee71496": {
      "model_module": "@jupyter-widgets/base",
      "model_module_version": "1.2.0",
      "model_name": "LayoutModel",
      "state": {
       "_model_module": "@jupyter-widgets/base",
       "_model_module_version": "1.2.0",
       "_model_name": "LayoutModel",
       "_view_count": null,
       "_view_module": "@jupyter-widgets/base",
       "_view_module_version": "1.2.0",
       "_view_name": "LayoutView",
       "align_content": null,
       "align_items": null,
       "align_self": null,
       "border": null,
       "bottom": null,
       "display": null,
       "flex": null,
       "flex_flow": null,
       "grid_area": null,
       "grid_auto_columns": null,
       "grid_auto_flow": null,
       "grid_auto_rows": null,
       "grid_column": null,
       "grid_gap": null,
       "grid_row": null,
       "grid_template_areas": null,
       "grid_template_columns": null,
       "grid_template_rows": null,
       "height": null,
       "justify_content": null,
       "justify_items": null,
       "left": null,
       "margin": null,
       "max_height": null,
       "max_width": null,
       "min_height": null,
       "min_width": null,
       "object_fit": null,
       "object_position": null,
       "order": null,
       "overflow": null,
       "overflow_x": null,
       "overflow_y": null,
       "padding": null,
       "right": null,
       "top": null,
       "visibility": null,
       "width": null
      }
     },
     "70c237b29d3a4b07b1d9d359d02b59ed": {
      "model_module": "@jupyter-widgets/controls",
      "model_module_version": "1.5.0",
      "model_name": "FloatProgressModel",
      "state": {
       "_dom_classes": [],
       "_model_module": "@jupyter-widgets/controls",
       "_model_module_version": "1.5.0",
       "_model_name": "FloatProgressModel",
       "_view_count": null,
       "_view_module": "@jupyter-widgets/controls",
       "_view_module_version": "1.5.0",
       "_view_name": "ProgressView",
       "bar_style": "success",
       "description": "",
       "description_tooltip": null,
       "layout": "IPY_MODEL_6a86d0e796a3439aa4396f355ee71496",
       "max": 1.0,
       "min": 0.0,
       "orientation": "horizontal",
       "style": "IPY_MODEL_247a373b329d4b4a80a27bf9ab717b3d",
       "value": 1.0
      }
     },
     "724b5a3541b544b38754156713cd18f3": {
      "model_module": "@jupyter-widgets/base",
      "model_module_version": "1.2.0",
      "model_name": "LayoutModel",
      "state": {
       "_model_module": "@jupyter-widgets/base",
       "_model_module_version": "1.2.0",
       "_model_name": "LayoutModel",
       "_view_count": null,
       "_view_module": "@jupyter-widgets/base",
       "_view_module_version": "1.2.0",
       "_view_name": "LayoutView",
       "align_content": null,
       "align_items": null,
       "align_self": null,
       "border": null,
       "bottom": null,
       "display": null,
       "flex": null,
       "flex_flow": null,
       "grid_area": null,
       "grid_auto_columns": null,
       "grid_auto_flow": null,
       "grid_auto_rows": null,
       "grid_column": null,
       "grid_gap": null,
       "grid_row": null,
       "grid_template_areas": null,
       "grid_template_columns": null,
       "grid_template_rows": null,
       "height": null,
       "justify_content": null,
       "justify_items": null,
       "left": null,
       "margin": null,
       "max_height": null,
       "max_width": null,
       "min_height": null,
       "min_width": null,
       "object_fit": null,
       "object_position": null,
       "order": null,
       "overflow": null,
       "overflow_x": null,
       "overflow_y": null,
       "padding": null,
       "right": null,
       "top": null,
       "visibility": null,
       "width": null
      }
     },
     "73480b5764c14795922b1de2436c9c6b": {
      "model_module": "@jupyter-widgets/base",
      "model_module_version": "1.2.0",
      "model_name": "LayoutModel",
      "state": {
       "_model_module": "@jupyter-widgets/base",
       "_model_module_version": "1.2.0",
       "_model_name": "LayoutModel",
       "_view_count": null,
       "_view_module": "@jupyter-widgets/base",
       "_view_module_version": "1.2.0",
       "_view_name": "LayoutView",
       "align_content": null,
       "align_items": null,
       "align_self": null,
       "border": null,
       "bottom": null,
       "display": null,
       "flex": null,
       "flex_flow": null,
       "grid_area": null,
       "grid_auto_columns": null,
       "grid_auto_flow": null,
       "grid_auto_rows": null,
       "grid_column": null,
       "grid_gap": null,
       "grid_row": null,
       "grid_template_areas": null,
       "grid_template_columns": null,
       "grid_template_rows": null,
       "height": null,
       "justify_content": null,
       "justify_items": null,
       "left": null,
       "margin": null,
       "max_height": null,
       "max_width": null,
       "min_height": null,
       "min_width": null,
       "object_fit": null,
       "object_position": null,
       "order": null,
       "overflow": null,
       "overflow_x": null,
       "overflow_y": null,
       "padding": null,
       "right": null,
       "top": null,
       "visibility": null,
       "width": null
      }
     },
     "738150b3f8cb45488ab38df6baa3d905": {
      "model_module": "@jupyter-widgets/base",
      "model_module_version": "1.2.0",
      "model_name": "LayoutModel",
      "state": {
       "_model_module": "@jupyter-widgets/base",
       "_model_module_version": "1.2.0",
       "_model_name": "LayoutModel",
       "_view_count": null,
       "_view_module": "@jupyter-widgets/base",
       "_view_module_version": "1.2.0",
       "_view_name": "LayoutView",
       "align_content": null,
       "align_items": null,
       "align_self": null,
       "border": null,
       "bottom": null,
       "display": null,
       "flex": null,
       "flex_flow": null,
       "grid_area": null,
       "grid_auto_columns": null,
       "grid_auto_flow": null,
       "grid_auto_rows": null,
       "grid_column": null,
       "grid_gap": null,
       "grid_row": null,
       "grid_template_areas": null,
       "grid_template_columns": null,
       "grid_template_rows": null,
       "height": null,
       "justify_content": null,
       "justify_items": null,
       "left": null,
       "margin": null,
       "max_height": null,
       "max_width": null,
       "min_height": null,
       "min_width": null,
       "object_fit": null,
       "object_position": null,
       "order": null,
       "overflow": null,
       "overflow_x": null,
       "overflow_y": null,
       "padding": null,
       "right": null,
       "top": null,
       "visibility": null,
       "width": null
      }
     },
     "7868841c54ff4d40aac331a1bb26608e": {
      "model_module": "@jupyter-widgets/controls",
      "model_module_version": "1.5.0",
      "model_name": "DescriptionStyleModel",
      "state": {
       "_model_module": "@jupyter-widgets/controls",
       "_model_module_version": "1.5.0",
       "_model_name": "DescriptionStyleModel",
       "_view_count": null,
       "_view_module": "@jupyter-widgets/base",
       "_view_module_version": "1.2.0",
       "_view_name": "StyleView",
       "description_width": ""
      }
     },
     "7a7e7ade63d94f2ebf9663dac86e440d": {
      "model_module": "@jupyter-widgets/base",
      "model_module_version": "1.2.0",
      "model_name": "LayoutModel",
      "state": {
       "_model_module": "@jupyter-widgets/base",
       "_model_module_version": "1.2.0",
       "_model_name": "LayoutModel",
       "_view_count": null,
       "_view_module": "@jupyter-widgets/base",
       "_view_module_version": "1.2.0",
       "_view_name": "LayoutView",
       "align_content": null,
       "align_items": null,
       "align_self": null,
       "border": null,
       "bottom": null,
       "display": null,
       "flex": null,
       "flex_flow": null,
       "grid_area": null,
       "grid_auto_columns": null,
       "grid_auto_flow": null,
       "grid_auto_rows": null,
       "grid_column": null,
       "grid_gap": null,
       "grid_row": null,
       "grid_template_areas": null,
       "grid_template_columns": null,
       "grid_template_rows": null,
       "height": null,
       "justify_content": null,
       "justify_items": null,
       "left": null,
       "margin": null,
       "max_height": null,
       "max_width": null,
       "min_height": null,
       "min_width": null,
       "object_fit": null,
       "object_position": null,
       "order": null,
       "overflow": null,
       "overflow_x": null,
       "overflow_y": null,
       "padding": null,
       "right": null,
       "top": null,
       "visibility": null,
       "width": null
      }
     },
     "7d0b80a53e594fdf832f80cca74e4383": {
      "model_module": "@jupyter-widgets/controls",
      "model_module_version": "1.5.0",
      "model_name": "ProgressStyleModel",
      "state": {
       "_model_module": "@jupyter-widgets/controls",
       "_model_module_version": "1.5.0",
       "_model_name": "ProgressStyleModel",
       "_view_count": null,
       "_view_module": "@jupyter-widgets/base",
       "_view_module_version": "1.2.0",
       "_view_name": "StyleView",
       "bar_color": null,
       "description_width": "initial"
      }
     },
     "863372b2460c4605928404b7cbd84931": {
      "model_module": "@jupyter-widgets/base",
      "model_module_version": "1.2.0",
      "model_name": "LayoutModel",
      "state": {
       "_model_module": "@jupyter-widgets/base",
       "_model_module_version": "1.2.0",
       "_model_name": "LayoutModel",
       "_view_count": null,
       "_view_module": "@jupyter-widgets/base",
       "_view_module_version": "1.2.0",
       "_view_name": "LayoutView",
       "align_content": null,
       "align_items": null,
       "align_self": null,
       "border": null,
       "bottom": null,
       "display": null,
       "flex": null,
       "flex_flow": null,
       "grid_area": null,
       "grid_auto_columns": null,
       "grid_auto_flow": null,
       "grid_auto_rows": null,
       "grid_column": null,
       "grid_gap": null,
       "grid_row": null,
       "grid_template_areas": null,
       "grid_template_columns": null,
       "grid_template_rows": null,
       "height": null,
       "justify_content": null,
       "justify_items": null,
       "left": null,
       "margin": null,
       "max_height": null,
       "max_width": null,
       "min_height": null,
       "min_width": null,
       "object_fit": null,
       "object_position": null,
       "order": null,
       "overflow": null,
       "overflow_x": null,
       "overflow_y": null,
       "padding": null,
       "right": null,
       "top": null,
       "visibility": null,
       "width": null
      }
     },
     "8c9adf037a2049ff86a91d54057b8a35": {
      "model_module": "@jupyter-widgets/controls",
      "model_module_version": "1.5.0",
      "model_name": "FloatProgressModel",
      "state": {
       "_dom_classes": [],
       "_model_module": "@jupyter-widgets/controls",
       "_model_module_version": "1.5.0",
       "_model_name": "FloatProgressModel",
       "_view_count": null,
       "_view_module": "@jupyter-widgets/controls",
       "_view_module_version": "1.5.0",
       "_view_name": "ProgressView",
       "bar_style": "success",
       "description": "",
       "description_tooltip": null,
       "layout": "IPY_MODEL_0d17cccb46bc41fab70132a361567299",
       "max": 64.0,
       "min": 0.0,
       "orientation": "horizontal",
       "style": "IPY_MODEL_0db1ec223e2b46babdfa3b2709b517c2",
       "value": 64.0
      }
     },
     "9332fce4d1a84db8bf8d1218375785ff": {
      "model_module": "@jupyter-widgets/base",
      "model_module_version": "1.2.0",
      "model_name": "LayoutModel",
      "state": {
       "_model_module": "@jupyter-widgets/base",
       "_model_module_version": "1.2.0",
       "_model_name": "LayoutModel",
       "_view_count": null,
       "_view_module": "@jupyter-widgets/base",
       "_view_module_version": "1.2.0",
       "_view_name": "LayoutView",
       "align_content": null,
       "align_items": null,
       "align_self": null,
       "border": null,
       "bottom": null,
       "display": null,
       "flex": null,
       "flex_flow": null,
       "grid_area": null,
       "grid_auto_columns": null,
       "grid_auto_flow": null,
       "grid_auto_rows": null,
       "grid_column": null,
       "grid_gap": null,
       "grid_row": null,
       "grid_template_areas": null,
       "grid_template_columns": null,
       "grid_template_rows": null,
       "height": null,
       "justify_content": null,
       "justify_items": null,
       "left": null,
       "margin": null,
       "max_height": null,
       "max_width": null,
       "min_height": null,
       "min_width": null,
       "object_fit": null,
       "object_position": null,
       "order": null,
       "overflow": null,
       "overflow_x": null,
       "overflow_y": null,
       "padding": null,
       "right": null,
       "top": null,
       "visibility": null,
       "width": null
      }
     },
     "98251a66e74f4a35a3609e75ac2da90f": {
      "model_module": "@jupyter-widgets/controls",
      "model_module_version": "1.5.0",
      "model_name": "ProgressStyleModel",
      "state": {
       "_model_module": "@jupyter-widgets/controls",
       "_model_module_version": "1.5.0",
       "_model_name": "ProgressStyleModel",
       "_view_count": null,
       "_view_module": "@jupyter-widgets/base",
       "_view_module_version": "1.2.0",
       "_view_name": "StyleView",
       "bar_color": null,
       "description_width": "initial"
      }
     },
     "995794a6cf9f4264bfbc12a0fe82d7c7": {
      "model_module": "@jupyter-widgets/base",
      "model_module_version": "1.2.0",
      "model_name": "LayoutModel",
      "state": {
       "_model_module": "@jupyter-widgets/base",
       "_model_module_version": "1.2.0",
       "_model_name": "LayoutModel",
       "_view_count": null,
       "_view_module": "@jupyter-widgets/base",
       "_view_module_version": "1.2.0",
       "_view_name": "LayoutView",
       "align_content": null,
       "align_items": null,
       "align_self": null,
       "border": null,
       "bottom": null,
       "display": null,
       "flex": null,
       "flex_flow": null,
       "grid_area": null,
       "grid_auto_columns": null,
       "grid_auto_flow": null,
       "grid_auto_rows": null,
       "grid_column": null,
       "grid_gap": null,
       "grid_row": null,
       "grid_template_areas": null,
       "grid_template_columns": null,
       "grid_template_rows": null,
       "height": null,
       "justify_content": null,
       "justify_items": null,
       "left": null,
       "margin": null,
       "max_height": null,
       "max_width": null,
       "min_height": null,
       "min_width": null,
       "object_fit": null,
       "object_position": null,
       "order": null,
       "overflow": null,
       "overflow_x": null,
       "overflow_y": null,
       "padding": null,
       "right": null,
       "top": null,
       "visibility": null,
       "width": null
      }
     },
     "a0b3a290fbc841a9aaaec42225a5527d": {
      "model_module": "@jupyter-widgets/controls",
      "model_module_version": "1.5.0",
      "model_name": "FloatProgressModel",
      "state": {
       "_dom_classes": [],
       "_model_module": "@jupyter-widgets/controls",
       "_model_module_version": "1.5.0",
       "_model_name": "FloatProgressModel",
       "_view_count": null,
       "_view_module": "@jupyter-widgets/controls",
       "_view_module_version": "1.5.0",
       "_view_name": "ProgressView",
       "bar_style": "success",
       "description": "",
       "description_tooltip": null,
       "layout": "IPY_MODEL_4b7d25d790eb4ee6afcb21455ca36b02",
       "max": 1.0,
       "min": 0.0,
       "orientation": "horizontal",
       "style": "IPY_MODEL_a6936aeb70a64330b06d5cb5f205d3f6",
       "value": 1.0
      }
     },
     "a189d831574041b09b2b2f23d2140257": {
      "model_module": "@jupyter-widgets/base",
      "model_module_version": "1.2.0",
      "model_name": "LayoutModel",
      "state": {
       "_model_module": "@jupyter-widgets/base",
       "_model_module_version": "1.2.0",
       "_model_name": "LayoutModel",
       "_view_count": null,
       "_view_module": "@jupyter-widgets/base",
       "_view_module_version": "1.2.0",
       "_view_name": "LayoutView",
       "align_content": null,
       "align_items": null,
       "align_self": null,
       "border": null,
       "bottom": null,
       "display": null,
       "flex": null,
       "flex_flow": null,
       "grid_area": null,
       "grid_auto_columns": null,
       "grid_auto_flow": null,
       "grid_auto_rows": null,
       "grid_column": null,
       "grid_gap": null,
       "grid_row": null,
       "grid_template_areas": null,
       "grid_template_columns": null,
       "grid_template_rows": null,
       "height": null,
       "justify_content": null,
       "justify_items": null,
       "left": null,
       "margin": null,
       "max_height": null,
       "max_width": null,
       "min_height": null,
       "min_width": null,
       "object_fit": null,
       "object_position": null,
       "order": null,
       "overflow": null,
       "overflow_x": null,
       "overflow_y": null,
       "padding": null,
       "right": null,
       "top": null,
       "visibility": null,
       "width": null
      }
     },
     "a2108404c37340628bde54d3eea5989c": {
      "model_module": "@jupyter-widgets/controls",
      "model_module_version": "1.5.0",
      "model_name": "FloatProgressModel",
      "state": {
       "_dom_classes": [],
       "_model_module": "@jupyter-widgets/controls",
       "_model_module_version": "1.5.0",
       "_model_name": "FloatProgressModel",
       "_view_count": null,
       "_view_module": "@jupyter-widgets/controls",
       "_view_module_version": "1.5.0",
       "_view_name": "ProgressView",
       "bar_style": "success",
       "description": "",
       "description_tooltip": null,
       "layout": "IPY_MODEL_f3bad9b440954a6cb93f75bf31c7ea3b",
       "max": 5.0,
       "min": 0.0,
       "orientation": "horizontal",
       "style": "IPY_MODEL_98251a66e74f4a35a3609e75ac2da90f",
       "value": 5.0
      }
     },
     "a6164eb5f47f4b1caa1d66f5560061fc": {
      "model_module": "@jupyter-widgets/controls",
      "model_module_version": "1.5.0",
      "model_name": "HBoxModel",
      "state": {
       "_dom_classes": [],
       "_model_module": "@jupyter-widgets/controls",
       "_model_module_version": "1.5.0",
       "_model_name": "HBoxModel",
       "_view_count": null,
       "_view_module": "@jupyter-widgets/controls",
       "_view_module_version": "1.5.0",
       "_view_name": "HBoxView",
       "box_style": "",
       "children": [
        "IPY_MODEL_c4c8e06e076d43bdb7a500e48a4d53b8",
        "IPY_MODEL_035829cb4b6a43caa86f87b0b82ca766"
       ],
       "layout": "IPY_MODEL_995794a6cf9f4264bfbc12a0fe82d7c7"
      }
     },
     "a6936aeb70a64330b06d5cb5f205d3f6": {
      "model_module": "@jupyter-widgets/controls",
      "model_module_version": "1.5.0",
      "model_name": "ProgressStyleModel",
      "state": {
       "_model_module": "@jupyter-widgets/controls",
       "_model_module_version": "1.5.0",
       "_model_name": "ProgressStyleModel",
       "_view_count": null,
       "_view_module": "@jupyter-widgets/base",
       "_view_module_version": "1.2.0",
       "_view_name": "StyleView",
       "bar_color": null,
       "description_width": "initial"
      }
     },
     "ac5d0fe35d16484a8b12c55b24c03bc9": {
      "model_module": "@jupyter-widgets/base",
      "model_module_version": "1.2.0",
      "model_name": "LayoutModel",
      "state": {
       "_model_module": "@jupyter-widgets/base",
       "_model_module_version": "1.2.0",
       "_model_name": "LayoutModel",
       "_view_count": null,
       "_view_module": "@jupyter-widgets/base",
       "_view_module_version": "1.2.0",
       "_view_name": "LayoutView",
       "align_content": null,
       "align_items": null,
       "align_self": null,
       "border": null,
       "bottom": null,
       "display": null,
       "flex": null,
       "flex_flow": null,
       "grid_area": null,
       "grid_auto_columns": null,
       "grid_auto_flow": null,
       "grid_auto_rows": null,
       "grid_column": null,
       "grid_gap": null,
       "grid_row": null,
       "grid_template_areas": null,
       "grid_template_columns": null,
       "grid_template_rows": null,
       "height": null,
       "justify_content": null,
       "justify_items": null,
       "left": null,
       "margin": null,
       "max_height": null,
       "max_width": null,
       "min_height": null,
       "min_width": null,
       "object_fit": null,
       "object_position": null,
       "order": null,
       "overflow": null,
       "overflow_x": null,
       "overflow_y": null,
       "padding": null,
       "right": null,
       "top": null,
       "visibility": null,
       "width": null
      }
     },
     "c1c498f03930482e84f12bbb18ac5158": {
      "model_module": "@jupyter-widgets/base",
      "model_module_version": "1.2.0",
      "model_name": "LayoutModel",
      "state": {
       "_model_module": "@jupyter-widgets/base",
       "_model_module_version": "1.2.0",
       "_model_name": "LayoutModel",
       "_view_count": null,
       "_view_module": "@jupyter-widgets/base",
       "_view_module_version": "1.2.0",
       "_view_name": "LayoutView",
       "align_content": null,
       "align_items": null,
       "align_self": null,
       "border": null,
       "bottom": null,
       "display": null,
       "flex": null,
       "flex_flow": null,
       "grid_area": null,
       "grid_auto_columns": null,
       "grid_auto_flow": null,
       "grid_auto_rows": null,
       "grid_column": null,
       "grid_gap": null,
       "grid_row": null,
       "grid_template_areas": null,
       "grid_template_columns": null,
       "grid_template_rows": null,
       "height": null,
       "justify_content": null,
       "justify_items": null,
       "left": null,
       "margin": null,
       "max_height": null,
       "max_width": null,
       "min_height": null,
       "min_width": null,
       "object_fit": null,
       "object_position": null,
       "order": null,
       "overflow": null,
       "overflow_x": null,
       "overflow_y": null,
       "padding": null,
       "right": null,
       "top": null,
       "visibility": null,
       "width": null
      }
     },
     "c4bc0a29ee5445c7a6a4e7240bf58b57": {
      "model_module": "@jupyter-widgets/controls",
      "model_module_version": "1.5.0",
      "model_name": "ProgressStyleModel",
      "state": {
       "_model_module": "@jupyter-widgets/controls",
       "_model_module_version": "1.5.0",
       "_model_name": "ProgressStyleModel",
       "_view_count": null,
       "_view_module": "@jupyter-widgets/base",
       "_view_module_version": "1.2.0",
       "_view_name": "StyleView",
       "bar_color": null,
       "description_width": "initial"
      }
     },
     "c4c8e06e076d43bdb7a500e48a4d53b8": {
      "model_module": "@jupyter-widgets/controls",
      "model_module_version": "1.5.0",
      "model_name": "FloatProgressModel",
      "state": {
       "_dom_classes": [],
       "_model_module": "@jupyter-widgets/controls",
       "_model_module_version": "1.5.0",
       "_model_name": "FloatProgressModel",
       "_view_count": null,
       "_view_module": "@jupyter-widgets/controls",
       "_view_module_version": "1.5.0",
       "_view_name": "ProgressView",
       "bar_style": "success",
       "description": "",
       "description_tooltip": null,
       "layout": "IPY_MODEL_a189d831574041b09b2b2f23d2140257",
       "max": 67.0,
       "min": 0.0,
       "orientation": "horizontal",
       "style": "IPY_MODEL_cc2d42528a9a4bd3972cc859ee416b3c",
       "value": 67.0
      }
     },
     "cc2d42528a9a4bd3972cc859ee416b3c": {
      "model_module": "@jupyter-widgets/controls",
      "model_module_version": "1.5.0",
      "model_name": "ProgressStyleModel",
      "state": {
       "_model_module": "@jupyter-widgets/controls",
       "_model_module_version": "1.5.0",
       "_model_name": "ProgressStyleModel",
       "_view_count": null,
       "_view_module": "@jupyter-widgets/base",
       "_view_module_version": "1.2.0",
       "_view_name": "StyleView",
       "bar_color": null,
       "description_width": "initial"
      }
     },
     "d5be3900f50640d5ba8d092453464ece": {
      "model_module": "@jupyter-widgets/controls",
      "model_module_version": "1.5.0",
      "model_name": "HTMLModel",
      "state": {
       "_dom_classes": [],
       "_model_module": "@jupyter-widgets/controls",
       "_model_module_version": "1.5.0",
       "_model_name": "HTMLModel",
       "_view_count": null,
       "_view_module": "@jupyter-widgets/controls",
       "_view_module_version": "1.5.0",
       "_view_name": "HTMLView",
       "description": "",
       "description_tooltip": null,
       "layout": "IPY_MODEL_dd43546bdf3a4d46814c081273ac85b1",
       "placeholder": "​",
       "style": "IPY_MODEL_f0dfa9a94b3c44ab8a7428556ffe6da0",
       "value": "&lt;tqdm.auto.tqdm object at 0x7fa3eb023c90&gt;"
      }
     },
     "dc657b7ff1824c2ea1941b69d742394e": {
      "model_module": "@jupyter-widgets/base",
      "model_module_version": "1.2.0",
      "model_name": "LayoutModel",
      "state": {
       "_model_module": "@jupyter-widgets/base",
       "_model_module_version": "1.2.0",
       "_model_name": "LayoutModel",
       "_view_count": null,
       "_view_module": "@jupyter-widgets/base",
       "_view_module_version": "1.2.0",
       "_view_name": "LayoutView",
       "align_content": null,
       "align_items": null,
       "align_self": null,
       "border": null,
       "bottom": null,
       "display": null,
       "flex": null,
       "flex_flow": null,
       "grid_area": null,
       "grid_auto_columns": null,
       "grid_auto_flow": null,
       "grid_auto_rows": null,
       "grid_column": null,
       "grid_gap": null,
       "grid_row": null,
       "grid_template_areas": null,
       "grid_template_columns": null,
       "grid_template_rows": null,
       "height": null,
       "justify_content": null,
       "justify_items": null,
       "left": null,
       "margin": null,
       "max_height": null,
       "max_width": null,
       "min_height": null,
       "min_width": null,
       "object_fit": null,
       "object_position": null,
       "order": null,
       "overflow": null,
       "overflow_x": null,
       "overflow_y": null,
       "padding": null,
       "right": null,
       "top": null,
       "visibility": null,
       "width": null
      }
     },
     "dd43546bdf3a4d46814c081273ac85b1": {
      "model_module": "@jupyter-widgets/base",
      "model_module_version": "1.2.0",
      "model_name": "LayoutModel",
      "state": {
       "_model_module": "@jupyter-widgets/base",
       "_model_module_version": "1.2.0",
       "_model_name": "LayoutModel",
       "_view_count": null,
       "_view_module": "@jupyter-widgets/base",
       "_view_module_version": "1.2.0",
       "_view_name": "LayoutView",
       "align_content": null,
       "align_items": null,
       "align_self": null,
       "border": null,
       "bottom": null,
       "display": null,
       "flex": null,
       "flex_flow": null,
       "grid_area": null,
       "grid_auto_columns": null,
       "grid_auto_flow": null,
       "grid_auto_rows": null,
       "grid_column": null,
       "grid_gap": null,
       "grid_row": null,
       "grid_template_areas": null,
       "grid_template_columns": null,
       "grid_template_rows": null,
       "height": null,
       "justify_content": null,
       "justify_items": null,
       "left": null,
       "margin": null,
       "max_height": null,
       "max_width": null,
       "min_height": null,
       "min_width": null,
       "object_fit": null,
       "object_position": null,
       "order": null,
       "overflow": null,
       "overflow_x": null,
       "overflow_y": null,
       "padding": null,
       "right": null,
       "top": null,
       "visibility": null,
       "width": null
      }
     },
     "de1c9738f86f4281b0ec908fd4dc26c1": {
      "model_module": "@jupyter-widgets/controls",
      "model_module_version": "1.5.0",
      "model_name": "HTMLModel",
      "state": {
       "_dom_classes": [],
       "_model_module": "@jupyter-widgets/controls",
       "_model_module_version": "1.5.0",
       "_model_name": "HTMLModel",
       "_view_count": null,
       "_view_module": "@jupyter-widgets/controls",
       "_view_module_version": "1.5.0",
       "_view_name": "HTMLView",
       "description": "",
       "description_tooltip": null,
       "layout": "IPY_MODEL_0666463b457b43a289c68f9d2fb31bf8",
       "placeholder": "​",
       "style": "IPY_MODEL_fd52ad22486f49bd8d719b61f2ff8c70",
       "value": "&lt;tqdm.auto.tqdm object at 0x7fa3e97389d0&gt;"
      }
     },
     "e12e7a381b744eb5aef6b8b967f12b0b": {
      "model_module": "@jupyter-widgets/controls",
      "model_module_version": "1.5.0",
      "model_name": "DescriptionStyleModel",
      "state": {
       "_model_module": "@jupyter-widgets/controls",
       "_model_module_version": "1.5.0",
       "_model_name": "DescriptionStyleModel",
       "_view_count": null,
       "_view_module": "@jupyter-widgets/base",
       "_view_module_version": "1.2.0",
       "_view_name": "StyleView",
       "description_width": ""
      }
     },
     "e66acb9ada634043ac93dc7656909d82": {
      "model_module": "@jupyter-widgets/controls",
      "model_module_version": "1.5.0",
      "model_name": "HBoxModel",
      "state": {
       "_dom_classes": [],
       "_model_module": "@jupyter-widgets/controls",
       "_model_module_version": "1.5.0",
       "_model_name": "HBoxModel",
       "_view_count": null,
       "_view_module": "@jupyter-widgets/controls",
       "_view_module_version": "1.5.0",
       "_view_name": "HBoxView",
       "box_style": "",
       "children": [
        "IPY_MODEL_a0b3a290fbc841a9aaaec42225a5527d",
        "IPY_MODEL_2f41b385a74440f6b069d13f7298faaf"
       ],
       "layout": "IPY_MODEL_4660608b0e4649cd89c7adbe95fd235d"
      }
     },
     "e6a3d84fac714839bd08ab9124d6b45e": {
      "model_module": "@jupyter-widgets/controls",
      "model_module_version": "1.5.0",
      "model_name": "HTMLModel",
      "state": {
       "_dom_classes": [],
       "_model_module": "@jupyter-widgets/controls",
       "_model_module_version": "1.5.0",
       "_model_name": "HTMLModel",
       "_view_count": null,
       "_view_module": "@jupyter-widgets/controls",
       "_view_module_version": "1.5.0",
       "_view_name": "HTMLView",
       "description": "",
       "description_tooltip": null,
       "layout": "IPY_MODEL_0e269f1a4cf9426c85d76bbd21d372d3",
       "placeholder": "​",
       "style": "IPY_MODEL_e12e7a381b744eb5aef6b8b967f12b0b",
       "value": "&lt;tqdm.auto.tqdm object at 0x7fa3c7a32e50&gt;"
      }
     },
     "ed6189edd4204a4bb40beaac23a7af16": {
      "model_module": "@jupyter-widgets/controls",
      "model_module_version": "1.5.0",
      "model_name": "FloatProgressModel",
      "state": {
       "_dom_classes": [],
       "_model_module": "@jupyter-widgets/controls",
       "_model_module_version": "1.5.0",
       "_model_name": "FloatProgressModel",
       "_view_count": null,
       "_view_module": "@jupyter-widgets/controls",
       "_view_module_version": "1.5.0",
       "_view_name": "ProgressView",
       "bar_style": "success",
       "description": "",
       "description_tooltip": null,
       "layout": "IPY_MODEL_60fbddba11a04821855201cbe7340668",
       "max": 816.0,
       "min": 0.0,
       "orientation": "horizontal",
       "style": "IPY_MODEL_7d0b80a53e594fdf832f80cca74e4383",
       "value": 816.0
      }
     },
     "ef4e9324691f4c528369e719f60f1ff3": {
      "model_module": "@jupyter-widgets/controls",
      "model_module_version": "1.5.0",
      "model_name": "ProgressStyleModel",
      "state": {
       "_model_module": "@jupyter-widgets/controls",
       "_model_module_version": "1.5.0",
       "_model_name": "ProgressStyleModel",
       "_view_count": null,
       "_view_module": "@jupyter-widgets/base",
       "_view_module_version": "1.2.0",
       "_view_name": "StyleView",
       "bar_color": null,
       "description_width": "initial"
      }
     },
     "f0dfa9a94b3c44ab8a7428556ffe6da0": {
      "model_module": "@jupyter-widgets/controls",
      "model_module_version": "1.5.0",
      "model_name": "DescriptionStyleModel",
      "state": {
       "_model_module": "@jupyter-widgets/controls",
       "_model_module_version": "1.5.0",
       "_model_name": "DescriptionStyleModel",
       "_view_count": null,
       "_view_module": "@jupyter-widgets/base",
       "_view_module_version": "1.2.0",
       "_view_name": "StyleView",
       "description_width": ""
      }
     },
     "f3bad9b440954a6cb93f75bf31c7ea3b": {
      "model_module": "@jupyter-widgets/base",
      "model_module_version": "1.2.0",
      "model_name": "LayoutModel",
      "state": {
       "_model_module": "@jupyter-widgets/base",
       "_model_module_version": "1.2.0",
       "_model_name": "LayoutModel",
       "_view_count": null,
       "_view_module": "@jupyter-widgets/base",
       "_view_module_version": "1.2.0",
       "_view_name": "LayoutView",
       "align_content": null,
       "align_items": null,
       "align_self": null,
       "border": null,
       "bottom": null,
       "display": null,
       "flex": null,
       "flex_flow": null,
       "grid_area": null,
       "grid_auto_columns": null,
       "grid_auto_flow": null,
       "grid_auto_rows": null,
       "grid_column": null,
       "grid_gap": null,
       "grid_row": null,
       "grid_template_areas": null,
       "grid_template_columns": null,
       "grid_template_rows": null,
       "height": null,
       "justify_content": null,
       "justify_items": null,
       "left": null,
       "margin": null,
       "max_height": null,
       "max_width": null,
       "min_height": null,
       "min_width": null,
       "object_fit": null,
       "object_position": null,
       "order": null,
       "overflow": null,
       "overflow_x": null,
       "overflow_y": null,
       "padding": null,
       "right": null,
       "top": null,
       "visibility": null,
       "width": null
      }
     },
     "fc4a7ede14aa46e89f91e8b2139fc760": {
      "model_module": "@jupyter-widgets/controls",
      "model_module_version": "1.5.0",
      "model_name": "HBoxModel",
      "state": {
       "_dom_classes": [],
       "_model_module": "@jupyter-widgets/controls",
       "_model_module_version": "1.5.0",
       "_model_name": "HBoxModel",
       "_view_count": null,
       "_view_module": "@jupyter-widgets/controls",
       "_view_module_version": "1.5.0",
       "_view_name": "HBoxView",
       "box_style": "",
       "children": [
        "IPY_MODEL_ed6189edd4204a4bb40beaac23a7af16",
        "IPY_MODEL_de1c9738f86f4281b0ec908fd4dc26c1"
       ],
       "layout": "IPY_MODEL_7a7e7ade63d94f2ebf9663dac86e440d"
      }
     },
     "fd52ad22486f49bd8d719b61f2ff8c70": {
      "model_module": "@jupyter-widgets/controls",
      "model_module_version": "1.5.0",
      "model_name": "DescriptionStyleModel",
      "state": {
       "_model_module": "@jupyter-widgets/controls",
       "_model_module_version": "1.5.0",
       "_model_name": "DescriptionStyleModel",
       "_view_count": null,
       "_view_module": "@jupyter-widgets/base",
       "_view_module_version": "1.2.0",
       "_view_name": "StyleView",
       "description_width": ""
      }
     }
    },
    "version_major": 2,
    "version_minor": 0
   }
  }
 },
 "nbformat": 4,
 "nbformat_minor": 5
}
